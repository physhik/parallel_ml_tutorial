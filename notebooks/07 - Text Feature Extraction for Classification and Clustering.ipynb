{
 "cells": [
  {
   "cell_type": "markdown",
   "metadata": {},
   "source": [
    "Change:\n",
    "\n",
    "Added some code for the better understanding of the pipeline. \n",
    "Added some \"\"\" \"\"\" or # comments for the easier figuring out modules and data structues"
   ]
  },
  {
   "cell_type": "code",
   "execution_count": 3,
   "metadata": {
    "collapsed": false
   },
   "outputs": [
    {
     "data": {
      "text/plain": [
       "<matplotlib.figure.Figure at 0x110d7da90>"
      ]
     },
     "metadata": {},
     "output_type": "display_data"
    }
   ],
   "source": [
    "from __future__ import division\n",
    "%matplotlib inline\n",
    "import matplotlib.pyplot as plt\n",
    "import numpy as np\n",
    "\n",
    "# Some nice default configuration for plots\n",
    "plt.rcParams['figure.figsize'] = 10, 7.5\n",
    "plt.rcParams['axes.grid'] = True\n",
    "plt.gray();"
   ]
  },
  {
   "cell_type": "code",
   "execution_count": 5,
   "metadata": {
    "collapsed": false
   },
   "outputs": [
    {
     "name": "stdout",
     "output_type": "stream",
     "text": [
      "Using existing dataset folder:/Users/namshik/Documents/py/parallel_ml_tutorial/datasets\n",
      "Checking availability of the 20 newsgroups dataset\n",
      "Found archive: /Users/namshik/Documents/py/parallel_ml_tutorial/datasets/20news-bydate.tar.gz\n",
      "Decompressing /Users/namshik/Documents/py/parallel_ml_tutorial/datasets/20news-bydate.tar.gz\n",
      "Checking that the 20 newsgroups files exist...\n",
      "=> Success!\n"
     ]
    }
   ],
   "source": [
    "%run /Users/namshik/Documents/py/parallel_ml_tutorial/fetch_data.py twenty_newsgroups"
   ]
  },
  {
   "cell_type": "markdown",
   "metadata": {},
   "source": [
    "# Text Feature Extraction for Classification and Clustering"
   ]
  },
  {
   "cell_type": "markdown",
   "metadata": {},
   "source": [
    "Outline of this section:\n",
    "\n",
    "- Turn a corpus of text documents into **feature vectors** using a **Bag of Words** representation,\n",
    "- Train a simple text classifier on the feature vectors,\n",
    "- Wrap the vectorizer and the classifier with a **pipeline**,\n",
    "- Cross-validation and **model selection** on the pipeline."
   ]
  },
  {
   "cell_type": "markdown",
   "metadata": {},
   "source": [
    "## Text Classification in 20 lines of Python"
   ]
  },
  {
   "cell_type": "markdown",
   "metadata": {},
   "source": [
    "Let's start by implementing a canonical text classification example:\n",
    "\n",
    "- The 20 newsgroups dataset: around 18000 text posts from 20 newsgroups forums\n",
    "- Bag of Words features extraction with TF-IDF weighting\n",
    "- Naive Bayes classifier or Linear Support Vector Machine for the classifier itself"
   ]
  },
  {
   "cell_type": "code",
   "execution_count": 6,
   "metadata": {
    "collapsed": false
   },
   "outputs": [
    {
     "name": "stdout",
     "output_type": "stream",
     "text": [
      "Training score: 95.1%\n",
      "Testing score: 85.1%\n"
     ]
    }
   ],
   "source": [
    "from sklearn.datasets import load_files\n",
    "from sklearn.feature_extraction.text import TfidfVectorizer\n",
    "from sklearn.naive_bayes import MultinomialNB\n",
    "\n",
    "# Load the text data\n",
    "categories = [\n",
    "    'alt.atheism',\n",
    "    'talk.religion.misc',\n",
    "    'comp.graphics',\n",
    "    'sci.space',\n",
    "]\n",
    "#small for 4 catecogies\n",
    "twenty_train_small = load_files('../datasets/20news-bydate-train/',\n",
    "    categories=categories, encoding='latin-1')\n",
    "twenty_test_small = load_files('../datasets/20news-bydate-test/',\n",
    "    categories=categories, encoding='latin-1')\n",
    "\n",
    "# Turn the text documents into vectors of word frequencies\n",
    "vectorizer = TfidfVectorizer(min_df=2)\n",
    "X_train = vectorizer.fit_transform(twenty_train_small.data)\n",
    "y_train = twenty_train_small.target\n",
    "\n",
    "# Fit a classifier on the training set\n",
    "classifier = MultinomialNB().fit(X_train, y_train)\n",
    "print(\"Training score: {0:.1f}%\".format(\n",
    "    classifier.score(X_train, y_train) * 100))\n",
    "\n",
    "# Evaluate the classifier on the testing set\n",
    "X_test = vectorizer.transform(twenty_test_small.data)\n",
    "y_test = twenty_test_small.target\n",
    "print(\"Testing score: {0:.1f}%\".format(\n",
    "    classifier.score(X_test, y_test) * 100))"
   ]
  },
  {
   "cell_type": "code",
   "execution_count": 27,
   "metadata": {
    "collapsed": false
   },
   "outputs": [
    {
     "data": {
      "text/plain": [
       "['target_names', 'data', 'target', 'DESCR', 'filenames']"
      ]
     },
     "execution_count": 27,
     "metadata": {},
     "output_type": "execute_result"
    }
   ],
   "source": [
    "twenty_train_small.keys()"
   ]
  },
  {
   "cell_type": "code",
   "execution_count": 12,
   "metadata": {
    "collapsed": false,
    "scrolled": true
   },
   "outputs": [
    {
     "data": {
      "text/plain": [
       "array(['../datasets/20news-bydate-train/comp.graphics/38395',\n",
       "       '../datasets/20news-bydate-train/sci.space/60789',\n",
       "       '../datasets/20news-bydate-train/sci.space/60238', ...,\n",
       "       '../datasets/20news-bydate-train/sci.space/61252',\n",
       "       '../datasets/20news-bydate-train/comp.graphics/38242',\n",
       "       '../datasets/20news-bydate-train/comp.graphics/38375'], \n",
       "      dtype='|S56')"
      ]
     },
     "execution_count": 12,
     "metadata": {},
     "output_type": "execute_result"
    }
   ],
   "source": [
    "twenty_train_small.filenames"
   ]
  },
  {
   "cell_type": "markdown",
   "metadata": {},
   "source": [
    "Here is a workflow diagram summary of what happened previously:"
   ]
  },
  {
   "cell_type": "markdown",
   "metadata": {},
   "source": [
    "<img src=\"files/images/supervised_scikit_learn.png\" />"
   ]
  },
  {
   "cell_type": "markdown",
   "metadata": {},
   "source": [
    "Let's now decompose what we just did to understand and customize each step."
   ]
  },
  {
   "cell_type": "markdown",
   "metadata": {},
   "source": [
    "### Loading the Dataset"
   ]
  },
  {
   "cell_type": "markdown",
   "metadata": {},
   "source": [
    "Let's explore the dataset loading utility without passing a list of categories: in this case we load the full 20 newsgroups dataset in memory. The source website for the 20 newsgroups already provides a date-based train / test split that is made available using the `subset` keyword argument: "
   ]
  },
  {
   "cell_type": "code",
   "execution_count": 13,
   "metadata": {
    "collapsed": false
   },
   "outputs": [
    {
     "name": "stdout",
     "output_type": "stream",
     "text": [
      "total 28256\r\n",
      "drwxr-xr-x  22 namshik  staff   748B Mar 18  2003 \u001b[1m\u001b[36m20news-bydate-test\u001b[m\u001b[m/\r\n",
      "drwxr-xr-x  22 namshik  staff   748B Mar 18  2003 \u001b[1m\u001b[36m20news-bydate-train\u001b[m\u001b[m/\r\n",
      "-rw-r--r--   1 namshik  staff    14M Oct  4 02:30 20news-bydate.tar.gz\r\n"
     ]
    }
   ],
   "source": [
    "ls -lh ../datasets/"
   ]
  },
  {
   "cell_type": "code",
   "execution_count": 14,
   "metadata": {
    "collapsed": false
   },
   "outputs": [
    {
     "name": "stdout",
     "output_type": "stream",
     "text": [
      "total 0\r\n",
      "drwxr-xr-x  482 namshik  staff    16K Mar 18  2003 \u001b[1m\u001b[36malt.atheism\u001b[m\u001b[m/\r\n",
      "drwxr-xr-x  586 namshik  staff    19K Mar 18  2003 \u001b[1m\u001b[36mcomp.graphics\u001b[m\u001b[m/\r\n",
      "drwxr-xr-x  593 namshik  staff    20K Mar 18  2003 \u001b[1m\u001b[36mcomp.os.ms-windows.misc\u001b[m\u001b[m/\r\n",
      "drwxr-xr-x  592 namshik  staff    20K Mar 18  2003 \u001b[1m\u001b[36mcomp.sys.ibm.pc.hardware\u001b[m\u001b[m/\r\n",
      "drwxr-xr-x  580 namshik  staff    19K Mar 18  2003 \u001b[1m\u001b[36mcomp.sys.mac.hardware\u001b[m\u001b[m/\r\n",
      "drwxr-xr-x  595 namshik  staff    20K Mar 18  2003 \u001b[1m\u001b[36mcomp.windows.x\u001b[m\u001b[m/\r\n",
      "drwxr-xr-x  587 namshik  staff    19K Mar 18  2003 \u001b[1m\u001b[36mmisc.forsale\u001b[m\u001b[m/\r\n",
      "drwxr-xr-x  596 namshik  staff    20K Mar 18  2003 \u001b[1m\u001b[36mrec.autos\u001b[m\u001b[m/\r\n",
      "drwxr-xr-x  600 namshik  staff    20K Mar 18  2003 \u001b[1m\u001b[36mrec.motorcycles\u001b[m\u001b[m/\r\n",
      "drwxr-xr-x  599 namshik  staff    20K Mar 18  2003 \u001b[1m\u001b[36mrec.sport.baseball\u001b[m\u001b[m/\r\n",
      "drwxr-xr-x  602 namshik  staff    20K Mar 18  2003 \u001b[1m\u001b[36mrec.sport.hockey\u001b[m\u001b[m/\r\n",
      "drwxr-xr-x  597 namshik  staff    20K Mar 18  2003 \u001b[1m\u001b[36msci.crypt\u001b[m\u001b[m/\r\n",
      "drwxr-xr-x  593 namshik  staff    20K Mar 18  2003 \u001b[1m\u001b[36msci.electronics\u001b[m\u001b[m/\r\n",
      "drwxr-xr-x  596 namshik  staff    20K Mar 18  2003 \u001b[1m\u001b[36msci.med\u001b[m\u001b[m/\r\n",
      "drwxr-xr-x  595 namshik  staff    20K Mar 18  2003 \u001b[1m\u001b[36msci.space\u001b[m\u001b[m/\r\n",
      "drwxr-xr-x  601 namshik  staff    20K Mar 18  2003 \u001b[1m\u001b[36msoc.religion.christian\u001b[m\u001b[m/\r\n",
      "drwxr-xr-x  548 namshik  staff    18K Mar 18  2003 \u001b[1m\u001b[36mtalk.politics.guns\u001b[m\u001b[m/\r\n",
      "drwxr-xr-x  566 namshik  staff    19K Mar 18  2003 \u001b[1m\u001b[36mtalk.politics.mideast\u001b[m\u001b[m/\r\n",
      "drwxr-xr-x  467 namshik  staff    16K Mar 18  2003 \u001b[1m\u001b[36mtalk.politics.misc\u001b[m\u001b[m/\r\n",
      "drwxr-xr-x  379 namshik  staff    13K Mar 18  2003 \u001b[1m\u001b[36mtalk.religion.misc\u001b[m\u001b[m/\r\n"
     ]
    }
   ],
   "source": [
    "ls -lh ../datasets/20news-bydate-train"
   ]
  },
  {
   "cell_type": "code",
   "execution_count": 16,
   "metadata": {
    "collapsed": false
   },
   "outputs": [],
   "source": [
    "#ls -lh ../datasets/20news-bydate-train/alt.atheism/"
   ]
  },
  {
   "cell_type": "markdown",
   "metadata": {},
   "source": [
    "The `load_files` function can load text files from a 2 levels folder structure assuming folder names represent categories:"
   ]
  },
  {
   "cell_type": "code",
   "execution_count": 17,
   "metadata": {
    "collapsed": false
   },
   "outputs": [
    {
     "name": "stdout",
     "output_type": "stream",
     "text": [
      "Load text files with categories as subfolder names.\n",
      "\n",
      "    Individual samples are assumed to be files stored a two levels folder\n",
      "    structure such as the following:\n",
      "\n",
      "        container_folder/\n",
      "            category_1_folder/\n",
      "                file_1.txt\n",
      "                file_2.txt\n",
      "                ...\n",
      "                file_42.txt\n",
      "            category_2_folder/\n",
      "                file_43.txt\n",
      "                file_44.txt\n",
      "                ...\n",
      "\n",
      "    The folder names are used as supervised signal label names. The\n",
      "    individual file names are not important.\n",
      "\n",
      "    This function does not try to extract features into a numpy array or\n",
      "    scipy sparse matrix. In addition, if load_content is false it\n",
      "    does not try to load the files in memory.\n",
      "\n",
      "    To use text files in a scikit-learn classification or clustering\n",
      "    algorithm, you will need to use the `sklearn.feature_extraction.text`\n",
      "    module to build a feature extraction transformer that suits your\n",
      "    problem.\n",
      "\n",
      "    If you set load_content=True, you should also specify the encoding of\n",
      "    the text using the 'encoding' parameter. For many modern text files,\n",
      "    'utf-8' will be the correct encoding. If you leave encoding equal to None,\n",
      "    then the content will be made of bytes instead of Unicode, and you will\n",
      "    not be able to use most functions in `sklearn.feature_extraction.text`.\n",
      "\n",
      "    Similar feature extractors should be built for other kind of unstructured\n",
      "    data input such as images, audio, video, ...\n",
      "\n",
      "    Read more in the :ref:`User Guide <datasets>`.\n",
      "\n",
      "    Parameters\n",
      "    ----------\n",
      "    container_path : string or unicode\n",
      "        Path to the main folder holding one subfolder per category\n",
      "\n",
      "    description: string or unicode, optional (default=None)\n",
      "        A paragraph describing the characteristic of the dataset: its source,\n",
      "        reference, etc.\n",
      "\n",
      "    categories : A collection of strings or None, optional (default=None)\n",
      "        If None (default), load all the categories.\n",
      "        If not None, list of category names to load (other categories ignored).\n",
      "\n",
      "    load_content : boolean, optional (default=True)\n",
      "        Whether to load or not the content of the different files. If\n",
      "        true a 'data' attribute containing the text information is present\n",
      "        in the data structure returned. If not, a filenames attribute\n",
      "        gives the path to the files.\n",
      "\n",
      "    encoding : string or None (default is None)\n",
      "        If None, do not try to decode the content of the files (e.g. for\n",
      "        images or other non-text content).\n",
      "        If not None, encoding to use to decode text files to Unicode if\n",
      "        load_content is True.\n",
      "\n",
      "    decode_error: {'strict', 'ignore', 'replace'}, optional\n",
      "        Instruction on what to do if a byte sequence is given to analyze that\n",
      "        contains characters not of the given `encoding`. Passed as keyword\n",
      "        argument 'errors' to bytes.decode.\n",
      "\n",
      "    shuffle : bool, optional (default=True)\n",
      "        Whether or not to shuffle the data: might be important for models that\n",
      "        make the assumption that the samples are independent and identically\n",
      "        distributed (i.i.d.), such as stochastic gradient descent.\n",
      "\n",
      "    random_state : int, RandomState instance or None, optional (default=0)\n",
      "        If int, random_state is the seed used by the random number generator;\n",
      "        If RandomState instance, random_state is the random number generator;\n",
      "        If None, the random number generator is the RandomState instance used\n",
      "        by `np.random`.\n",
      "\n",
      "    Returns\n",
      "    -------\n",
      "    data : Bunch\n",
      "        Dictionary-like object, the interesting attributes are: either\n",
      "        data, the raw text data to learn, or 'filenames', the files\n",
      "        holding it, 'target', the classification labels (integer index),\n",
      "        'target_names', the meaning of the labels, and 'DESCR', the full\n",
      "        description of the dataset.\n",
      "    \n"
     ]
    }
   ],
   "source": [
    "print(load_files.__doc__)"
   ]
  },
  {
   "cell_type": "code",
   "execution_count": 18,
   "metadata": {
    "collapsed": false
   },
   "outputs": [],
   "source": [
    "all_twenty_train = load_files('../datasets/20news-bydate-train/',\n",
    "    encoding='latin-1', random_state=42)\n",
    "all_twenty_test = load_files('../datasets/20news-bydate-test/',\n",
    "    encoding='latin-1', random_state=42)"
   ]
  },
  {
   "cell_type": "code",
   "execution_count": 19,
   "metadata": {
    "collapsed": false
   },
   "outputs": [
    {
     "data": {
      "text/plain": [
       "['target_names', 'data', 'target', 'DESCR', 'filenames']"
      ]
     },
     "execution_count": 19,
     "metadata": {},
     "output_type": "execute_result"
    }
   ],
   "source": [
    "list(all_twenty_train.keys())"
   ]
  },
  {
   "cell_type": "code",
   "execution_count": 65,
   "metadata": {
    "collapsed": false
   },
   "outputs": [
    {
     "data": {
      "text/plain": [
       "(['alt.atheism',\n",
       "  'comp.graphics',\n",
       "  'comp.os.ms-windows.misc',\n",
       "  'comp.sys.ibm.pc.hardware',\n",
       "  'comp.sys.mac.hardware',\n",
       "  'comp.windows.x',\n",
       "  'misc.forsale',\n",
       "  'rec.autos',\n",
       "  'rec.motorcycles',\n",
       "  'rec.sport.baseball',\n",
       "  'rec.sport.hockey',\n",
       "  'sci.crypt',\n",
       "  'sci.electronics',\n",
       "  'sci.med',\n",
       "  'sci.space',\n",
       "  'soc.religion.christian',\n",
       "  'talk.politics.guns',\n",
       "  'talk.politics.mideast',\n",
       "  'talk.politics.misc',\n",
       "  'talk.religion.misc'],\n",
       " 20)"
      ]
     },
     "execution_count": 65,
     "metadata": {},
     "output_type": "execute_result"
    }
   ],
   "source": [
    "all_target_names = all_twenty_train.target_names\n",
    "all_target_names, len(all_target_names) # 20 catergoies"
   ]
  },
  {
   "cell_type": "code",
   "execution_count": 21,
   "metadata": {
    "collapsed": false
   },
   "outputs": [
    {
     "data": {
      "text/plain": [
       "array([12,  6,  9, ...,  9,  1, 12])"
      ]
     },
     "execution_count": 21,
     "metadata": {},
     "output_type": "execute_result"
    }
   ],
   "source": [
    "all_twenty_train.target"
   ]
  },
  {
   "cell_type": "code",
   "execution_count": 22,
   "metadata": {
    "collapsed": false
   },
   "outputs": [
    {
     "data": {
      "text/plain": [
       "(11314,)"
      ]
     },
     "execution_count": 22,
     "metadata": {},
     "output_type": "execute_result"
    }
   ],
   "source": [
    "all_twenty_train.target.shape"
   ]
  },
  {
   "cell_type": "code",
   "execution_count": 23,
   "metadata": {
    "collapsed": false
   },
   "outputs": [
    {
     "data": {
      "text/plain": [
       "(7532,)"
      ]
     },
     "execution_count": 23,
     "metadata": {},
     "output_type": "execute_result"
    }
   ],
   "source": [
    "all_twenty_test.target.shape"
   ]
  },
  {
   "cell_type": "code",
   "execution_count": 28,
   "metadata": {
    "collapsed": false
   },
   "outputs": [
    {
     "data": {
      "text/plain": [
       "11314"
      ]
     },
     "execution_count": 28,
     "metadata": {},
     "output_type": "execute_result"
    }
   ],
   "source": [
    "len(all_twenty_train.data)"
   ]
  },
  {
   "cell_type": "code",
   "execution_count": 26,
   "metadata": {
    "collapsed": false
   },
   "outputs": [
    {
     "data": {
      "text/plain": [
       "unicode"
      ]
     },
     "execution_count": 26,
     "metadata": {},
     "output_type": "execute_result"
    }
   ],
   "source": [
    "type(all_twenty_train.data[0])"
   ]
  },
  {
   "cell_type": "code",
   "execution_count": 29,
   "metadata": {
    "collapsed": false
   },
   "outputs": [],
   "source": [
    "def display_sample(i, dataset):\n",
    "    target_id = dataset.target[i]\n",
    "    print(\"Class id: %d\" % target_id)\n",
    "    print(\"Class name: \" + dataset.target_names[target_id])\n",
    "    print(\"Text content:\\n\")\n",
    "    print(dataset.data[i])"
   ]
  },
  {
   "cell_type": "code",
   "execution_count": 30,
   "metadata": {
    "collapsed": false
   },
   "outputs": [
    {
     "name": "stdout",
     "output_type": "stream",
     "text": [
      "Class id: 12\n",
      "Class name: sci.electronics\n",
      "Text content:\n",
      "\n",
      "From: wtm@uhura.neoucom.edu (Bill Mayhew)\n",
      "Subject: Re: How to the disks copy protected.\n",
      "Organization: Northeastern Ohio Universities College of Medicine\n",
      "Lines: 23\n",
      "\n",
      "Write a good manual to go with the software.  The hassle of\n",
      "photocopying the manual is offset by simplicity of purchasing\n",
      "the package for only $15.  Also, consider offering an inexpensive\n",
      "but attractive perc for registered users.  For instance, a coffee\n",
      "mug.  You could produce and mail the incentive for a couple of\n",
      "dollars, so consider pricing the product at $17.95.\n",
      "\n",
      "You're lucky if only 20% of the instances of your program in use\n",
      "are non-licensed users.\n",
      "\n",
      "The best approach is to estimate your loss and accomodate that into\n",
      "your price structure.  Sure it hurts legitimate users, but too bad.\n",
      "Retailers have to charge off loss to shoplifters onto paying\n",
      "customers; the software industry is the same.\n",
      "\n",
      "Unless your product is exceptionally unique, using an ostensibly\n",
      "copy-proof disk will just send your customers to the competetion.\n",
      "\n",
      "\n",
      "-- \n",
      "Bill Mayhew      NEOUCOM Computer Services Department\n",
      "Rootstown, OH  44272-9995  USA    phone: 216-325-2511\n",
      "wtm@uhura.neoucom.edu (140.220.1.1)    146.580: N8WED\n",
      "\n"
     ]
    }
   ],
   "source": [
    "display_sample(0, all_twenty_train)"
   ]
  },
  {
   "cell_type": "code",
   "execution_count": 31,
   "metadata": {
    "collapsed": false
   },
   "outputs": [
    {
     "name": "stdout",
     "output_type": "stream",
     "text": [
      "Class id: 6\n",
      "Class name: misc.forsale\n",
      "Text content:\n",
      "\n",
      "From: andy@SAIL.Stanford.EDU (Andy Freeman)\n",
      "Subject: Re: Catalog of Hard-to-Find PC Enhancements (Repost)\n",
      "Organization: Computer Science Department,  Stanford University.\n",
      "Lines: 33\n",
      "\n",
      ">andy@SAIL.Stanford.EDU (Andy Freeman) writes:\n",
      ">> >In article <C5ELME.4z4@unix.portal.com> jdoll@shell.portal.com (Joe Doll) wr\n",
      ">> >>   \"The Catalog of Personal Computing Tools for Engineers and Scien-\n",
      ">> >>   tists\" lists hardware cards and application software packages for \n",
      ">> >>   PC/XT/AT/PS/2 class machines.  Focus is on engineering and scien-\n",
      ">> >>   tific applications of PCs, such as data acquisition/control, \n",
      ">> >>   design automation, and data analysis and presentation.  \n",
      ">> >\n",
      ">> >>   If you would like a free copy, reply with your (U. S. Postal) \n",
      ">> >>   mailing address.\n",
      ">> \n",
      ">> Don't bother - it never comes.  It's a cheap trick for building a\n",
      ">> mailing list to sell if my junk mail flow is any indication.\n",
      ">> \n",
      ">> -andy sent his address months ago\n",
      ">\n",
      ">Perhaps we can get Portal to nuke this weasal.  I never received a \n",
      ">catalog either.  If that person doesn't respond to a growing flame, then \n",
      ">we can assume that we'yall look forward to lotsa junk mail.\n",
      "\n",
      "I don't want him nuked, I want him to be honest.  The junk mail has\n",
      "been much more interesting than the promised catalog.  If I'd known\n",
      "what I was going to get, I wouldn't have hesitated.  I wouldn't be\n",
      "surprised if there were other folks who looked at the ad and said\n",
      "\"nope\" but who would be very interested in the junk mail that results.\n",
      "Similarly, there are people who wanted the advertised catalog who\n",
      "aren't happy with the junk they got instead.\n",
      "\n",
      "The folks buying the mailing lists would prefer an honest ad, and\n",
      "so would the people reading it.\n",
      "\n",
      "-andy\n",
      "--\n",
      "\n"
     ]
    }
   ],
   "source": [
    "display_sample(1, all_twenty_train)"
   ]
  },
  {
   "cell_type": "markdown",
   "metadata": {},
   "source": [
    "Let's compute the (uncompressed, in-memory) size of the training and test sets in MB assuming an 8-bit encoding (in this case, all chars can be encoded using the latin-1 charset)."
   ]
  },
  {
   "cell_type": "code",
   "execution_count": 60,
   "metadata": {
    "collapsed": false
   },
   "outputs": [
    {
     "name": "stdout",
     "output_type": "stream",
     "text": [
      "Training set size: 176 MB\n",
      "Testing set size: 110 MB\n"
     ]
    }
   ],
   "source": [
    "def text_size(text, charset='iso-8859-1'):\n",
    "    return len(text.encode(charset)) * 8 * 1e-6 \n",
    "\n",
    "# one character size is 8 * 1e-6\n",
    "\n",
    "train_size_mb = sum(text_size(text) for text in all_twenty_train.data) \n",
    "test_size_mb = sum(text_size(text) for text in all_twenty_test.data)\n",
    "\n",
    "print(\"Training set size: {0} MB\".format(int(train_size_mb)))\n",
    "print(\"Testing set size: {0} MB\".format(int(test_size_mb)))"
   ]
  },
  {
   "cell_type": "code",
   "execution_count": 59,
   "metadata": {
    "collapsed": false
   },
   "outputs": [
    {
     "data": {
      "text/plain": [
       "3.9999999999999996e-05"
      ]
     },
     "execution_count": 59,
     "metadata": {},
     "output_type": "execute_result"
    }
   ],
   "source": [
    "text_size(\"si ze\") # one character size "
   ]
  },
  {
   "cell_type": "code",
   "execution_count": 64,
   "metadata": {
    "collapsed": false
   },
   "outputs": [
    {
     "data": {
      "text/plain": [
       "(10, 10)"
      ]
     },
     "execution_count": 64,
     "metadata": {},
     "output_type": "execute_result"
    }
   ],
   "source": [
    "len(\"si ze$%%^$\".encode('iso-8859-1')), len(\"si ze$%%^$\")"
   ]
  },
  {
   "cell_type": "markdown",
   "metadata": {},
   "source": [
    "If we only consider a small subset of the 4 categories selected from the initial example:"
   ]
  },
  {
   "cell_type": "code",
   "execution_count": 33,
   "metadata": {
    "collapsed": false
   },
   "outputs": [
    {
     "data": {
      "text/plain": [
       "['alt.atheism', 'comp.graphics', 'sci.space', 'talk.religion.misc']"
      ]
     },
     "execution_count": 33,
     "metadata": {},
     "output_type": "execute_result"
    }
   ],
   "source": [
    "twenty_train_small.target_names"
   ]
  },
  {
   "cell_type": "code",
   "execution_count": 34,
   "metadata": {
    "collapsed": false
   },
   "outputs": [
    {
     "name": "stdout",
     "output_type": "stream",
     "text": [
      "Training set size: 31 MB\n",
      "Testing set size: 22 MB\n"
     ]
    }
   ],
   "source": [
    "train_small_size_mb = sum(text_size(text) for text in twenty_train_small.data) \n",
    "test_small_size_mb = sum(text_size(text) for text in twenty_test_small.data)\n",
    "\n",
    "print(\"Training set size: {0} MB\".format(int(train_small_size_mb)))\n",
    "print(\"Testing set size: {0} MB\".format(int(test_small_size_mb)))"
   ]
  },
  {
   "cell_type": "markdown",
   "metadata": {},
   "source": [
    "### Extracting Text Features"
   ]
  },
  {
   "cell_type": "code",
   "execution_count": 35,
   "metadata": {
    "collapsed": false
   },
   "outputs": [
    {
     "data": {
      "text/plain": [
       "TfidfVectorizer(analyzer=u'word', binary=False, decode_error=u'strict',\n",
       "        dtype=<type 'numpy.int64'>, encoding=u'utf-8', input=u'content',\n",
       "        lowercase=True, max_df=1.0, max_features=None, min_df=1,\n",
       "        ngram_range=(1, 1), norm=u'l2', preprocessor=None, smooth_idf=True,\n",
       "        stop_words=None, strip_accents=None, sublinear_tf=False,\n",
       "        token_pattern=u'(?u)\\\\b\\\\w\\\\w+\\\\b', tokenizer=None, use_idf=True,\n",
       "        vocabulary=None)"
      ]
     },
     "execution_count": 35,
     "metadata": {},
     "output_type": "execute_result"
    }
   ],
   "source": [
    "from sklearn.feature_extraction.text import TfidfVectorizer\n",
    "\n",
    "TfidfVectorizer()"
   ]
  },
  {
   "cell_type": "code",
   "execution_count": 159,
   "metadata": {
    "collapsed": false
   },
   "outputs": [
    {
     "name": "stdout",
     "output_type": "stream",
     "text": [
      "<type 'list'>\n",
      "CPU times: user 657 ms, sys: 16.5 ms, total: 674 ms\n",
      "Wall time: 668 ms\n"
     ]
    }
   ],
   "source": [
    "vectorizer = TfidfVectorizer(min_df=1)\n",
    "print type(twenty_train_small.data)\n",
    "%time X_train_small = vectorizer.fit_transform(twenty_train_small.data)"
   ]
  },
  {
   "cell_type": "code",
   "execution_count": 149,
   "metadata": {
    "collapsed": false
   },
   "outputs": [
    {
     "data": {
      "text/plain": [
       "(<2034x34118 sparse matrix of type '<type 'numpy.float64'>'\n",
       " \twith 323433 stored elements in Compressed Sparse Row format>,\n",
       " array([[ 0.        ,  0.        ,  0.        , ...,  0.        ,\n",
       "          0.        ,  0.        ],\n",
       "        [ 0.        ,  0.        ,  0.        , ...,  0.        ,\n",
       "          0.        ,  0.        ],\n",
       "        [ 0.        ,  0.        ,  0.        , ...,  0.        ,\n",
       "          0.        ,  0.        ],\n",
       "        ..., \n",
       "        [ 0.        ,  0.        ,  0.        , ...,  0.        ,\n",
       "          0.        ,  0.        ],\n",
       "        [ 0.        ,  0.        ,  0.        , ...,  0.        ,\n",
       "          0.        ,  0.        ],\n",
       "        [ 0.00881395,  0.        ,  0.        , ...,  0.        ,\n",
       "          0.        ,  0.        ]]))"
      ]
     },
     "execution_count": 149,
     "metadata": {},
     "output_type": "execute_result"
    }
   ],
   "source": [
    "X_train_small,X_train_small.toarray()"
   ]
  },
  {
   "cell_type": "code",
   "execution_count": 156,
   "metadata": {
    "collapsed": false
   },
   "outputs": [
    {
     "name": "stdout",
     "output_type": "stream",
     "text": [
      "  (3, 0)\t1.0\n",
      "  (4, 1)\t1.0\n",
      "  (5, 1)\t1.0\n",
      "  (6, 2)\t0.707106781187\n",
      "  (6, 3)\t0.707106781187\n",
      "<class 'scipy.sparse.csr.csr_matrix'> (8, 4)\n",
      "[[ 0.          0.          0.          0.        ]\n",
      " [ 0.          0.          0.          0.        ]\n",
      " [ 0.          0.          0.          0.        ]\n",
      " [ 1.          0.          0.          0.        ]\n",
      " [ 0.          1.          0.          0.        ]\n",
      " [ 0.          1.          0.          0.        ]\n",
      " [ 0.          0.          0.70710678  0.70710678]\n",
      " [ 0.          0.          0.          0.        ]]\n"
     ]
    }
   ],
   "source": [
    "import numpy as np\n",
    "a=vectorizer.fit_transform(np.array(['\\n\\n','@','','am','boy','boy','gi rl','']))\n",
    "print a \n",
    "print type(a), a.shape\n",
    "print a.toarray()"
   ]
  },
  {
   "cell_type": "markdown",
   "metadata": {},
   "source": [
    "scipy.sparse matrices also have a shape attribute to access the dimensions:"
   ]
  },
  {
   "cell_type": "code",
   "execution_count": 140,
   "metadata": {
    "collapsed": false
   },
   "outputs": [],
   "source": [
    "n_samples, n_features = X_train_small.shape"
   ]
  },
  {
   "cell_type": "markdown",
   "metadata": {},
   "source": [
    "This dataset has around 2000 samples (the rows of the data matrix):"
   ]
  },
  {
   "cell_type": "code",
   "execution_count": 141,
   "metadata": {
    "collapsed": false
   },
   "outputs": [
    {
     "data": {
      "text/plain": [
       "2034"
      ]
     },
     "execution_count": 141,
     "metadata": {},
     "output_type": "execute_result"
    }
   ],
   "source": [
    "n_samples"
   ]
  },
  {
   "cell_type": "markdown",
   "metadata": {},
   "source": [
    "This is the same value as the number of strings in the original list of text documents:"
   ]
  },
  {
   "cell_type": "code",
   "execution_count": 150,
   "metadata": {
    "collapsed": false
   },
   "outputs": [
    {
     "data": {
      "text/plain": [
       "2034"
      ]
     },
     "execution_count": 150,
     "metadata": {},
     "output_type": "execute_result"
    }
   ],
   "source": [
    "len(twenty_train_small.data)"
   ]
  },
  {
   "cell_type": "markdown",
   "metadata": {},
   "source": [
    "The columns represent the individual token occurrences:"
   ]
  },
  {
   "cell_type": "code",
   "execution_count": 143,
   "metadata": {
    "collapsed": false
   },
   "outputs": [
    {
     "data": {
      "text/plain": [
       "34118"
      ]
     },
     "execution_count": 143,
     "metadata": {},
     "output_type": "execute_result"
    }
   ],
   "source": [
    "n_features"
   ]
  },
  {
   "cell_type": "markdown",
   "metadata": {},
   "source": [
    "This number is the size of the vocabulary of the model extracted during fit in a Python dictionary:"
   ]
  },
  {
   "cell_type": "code",
   "execution_count": 160,
   "metadata": {
    "collapsed": false
   },
   "outputs": [
    {
     "data": {
      "text/plain": [
       "dict"
      ]
     },
     "execution_count": 160,
     "metadata": {},
     "output_type": "execute_result"
    }
   ],
   "source": [
    "type(vectorizer.vocabulary_)"
   ]
  },
  {
   "cell_type": "code",
   "execution_count": 161,
   "metadata": {
    "collapsed": false,
    "scrolled": true
   },
   "outputs": [
    {
     "data": {
      "text/plain": [
       "{u'3ds2scn': 2363,\n",
       " u'schlegel': 27521,\n",
       " u'luanch': 19846,\n",
       " u'tilton': 30915,\n",
       " u'askew': 5790,\n",
       " u'circuitry': 8707,\n",
       " u'phenomenologist': 23903,\n",
       " u'hanging': 15763,\n",
       " u'woody': 33570,\n",
       " u'localized': 19666,\n",
       " u'disobeying': 11601,\n",
       " u'rickman': 26743,\n",
       " u'yourdon': 33964,\n",
       " u'rawhide': 25747,\n",
       " u'surfmodl': 29956,\n",
       " u'broward': 7422,\n",
       " u'fractal': 14407,\n",
       " u'vibrational': 32658,\n",
       " u'wooden': 33564,\n",
       " u'wednesday': 33173,\n",
       " u'vlba': 32817,\n",
       " u'woods': 33567,\n",
       " u'matthean': 20432,\n",
       " u'cfa': 8372,\n",
       " u'frederick': 14466,\n",
       " u'error_': 13011,\n",
       " u'270': 1938,\n",
       " u'miniatures': 20983,\n",
       " u'272': 1942,\n",
       " u'273': 1944,\n",
       " u'274': 1948,\n",
       " u'275': 1952,\n",
       " u'276': 1956,\n",
       " u'277': 1957,\n",
       " u'279': 1961,\n",
       " u'targa': 30300,\n",
       " u'inanimate': 17063,\n",
       " u'mdata': 20552,\n",
       " u'errors': 13012,\n",
       " u'rle': 26849,\n",
       " u'usenet': 32246,\n",
       " u'designing': 11132,\n",
       " u'unfonunately': 31933,\n",
       " u'catalouge': 8153,\n",
       " u'succumb': 29736,\n",
       " u'shocks': 28133,\n",
       " u'evolutionism': 13224,\n",
       " u'widget': 33366,\n",
       " u'scarcasm': 27469,\n",
       " u'brainwashed': 7276,\n",
       " u'47': 2537,\n",
       " u'china': 8585,\n",
       " u'p_rfowles': 23244,\n",
       " u'affiliated': 4689,\n",
       " u'natured': 21821,\n",
       " u'quart': 25466,\n",
       " u'kids': 18673,\n",
       " u'uplifting': 32182,\n",
       " u'addario': 4505,\n",
       " u'climbed': 8862,\n",
       " u'monospaced': 21312,\n",
       " u'controversy': 9787,\n",
       " u'onderwerpen': 22778,\n",
       " u'natures': 21822,\n",
       " u'c51nls': 7720,\n",
       " u'spotty': 29072,\n",
       " u'xv221': 33837,\n",
       " u'toowoomba': 31074,\n",
       " u'golden': 15215,\n",
       " u'topography': 31082,\n",
       " u'projection': 25012,\n",
       " u'golded': 15214,\n",
       " u'spacewalks': 28865,\n",
       " u'stern': 29361,\n",
       " u'dna': 11794,\n",
       " u'blashephemers': 6953,\n",
       " u'dnm': 11797,\n",
       " u'century': 8338,\n",
       " u'cannibal': 7978,\n",
       " u'e0': 12204,\n",
       " u'vsats': 32927,\n",
       " u'dnw': 11799,\n",
       " u'dnv': 11798,\n",
       " u'music': 21637,\n",
       " u'therefore': 30703,\n",
       " u'distortions': 11682,\n",
       " u'sermons': 27907,\n",
       " u'benedikt': 6656,\n",
       " u'_debates_': 3913,\n",
       " u'molenaar': 21264,\n",
       " u'circumstances': 8720,\n",
       " u'hj': 16259,\n",
       " u'ftpmail': 14575,\n",
       " u'morally': 21359,\n",
       " u'pirenne': 24093,\n",
       " u'40': 2393,\n",
       " u'arndt': 5685,\n",
       " u'1qppef': 1443,\n",
       " u'tomahawk': 31038,\n",
       " u'wang': 33036,\n",
       " u'wand': 33032,\n",
       " u'hyatt': 16628,\n",
       " u'unjust': 32023,\n",
       " u'kaprow': 18507,\n",
       " u'titanium': 30960,\n",
       " u'want': 33040,\n",
       " u'absolute': 4251,\n",
       " u'060493161931': 188,\n",
       " u'travel': 31301,\n",
       " u'copious': 9858,\n",
       " u'h1p4s4g': 15635,\n",
       " u'r3000': 25544,\n",
       " u'playback': 24195,\n",
       " u'cadence': 7856,\n",
       " u'1177': 464,\n",
       " u'1170': 460,\n",
       " u'hcrlgw': 15915,\n",
       " u'n4hy': 21724,\n",
       " u'apocrypha': 5433,\n",
       " u'wrong': 33688,\n",
       " u'perutz': 23832,\n",
       " u'pigment': 24047,\n",
       " u'glennc': 15118,\n",
       " u'trifercation': 31384,\n",
       " u'18th': 1061,\n",
       " u'menlo': 20680,\n",
       " u'lambda': 19004,\n",
       " u'copius': 9859,\n",
       " u'welcomed': 33213,\n",
       " u'concurrence': 9460,\n",
       " u'zal': 34012,\n",
       " u'ds0007': 12063,\n",
       " u'620': 2857,\n",
       " u'concurrency': 9461,\n",
       " u'65882': 2938,\n",
       " u'activating': 4453,\n",
       " u'fir': 14013,\n",
       " u'programmierer_': 24988,\n",
       " u'uow': 32157,\n",
       " u'monkery': 21299,\n",
       " u'fit': 14048,\n",
       " u'fiu': 14055,\n",
       " u'bringing': 7374,\n",
       " u'fix': 14057,\n",
       " u'uriah': 32219,\n",
       " u'fig': 13933,\n",
       " u'wales': 33004,\n",
       " u'9wk': 3793,\n",
       " u'variables': 32459,\n",
       " u'1qlapk': 1423,\n",
       " u'hkuwait': 16265,\n",
       " u'basics': 6434,\n",
       " u'effects': 12395,\n",
       " u'multidimensional': 21573,\n",
       " u'sixteen': 28408,\n",
       " u'saddened': 27230,\n",
       " u'rasterized': 25710,\n",
       " u'9w3': 3792,\n",
       " u'barton': 6414,\n",
       " u'arrow': 5718,\n",
       " u'uninfluenced': 31972,\n",
       " u'burial': 7596,\n",
       " u'telescope': 30457,\n",
       " u'allah': 4967,\n",
       " u'allan': 4968,\n",
       " u'parasites': 23410,\n",
       " u'391': 2336,\n",
       " u'390': 2335,\n",
       " u'395': 2340,\n",
       " u'398': 2344,\n",
       " u'toleration': 31032,\n",
       " u'golen': 15219,\n",
       " u'undecidable': 31856,\n",
       " u'enviroment': 12865,\n",
       " u'7mhz': 3331,\n",
       " u'mason': 20357,\n",
       " u'encourage': 12692,\n",
       " u'adapt': 4494,\n",
       " u'misrepresentations': 21088,\n",
       " u'39a': 2347,\n",
       " u'stamping': 29208,\n",
       " u'strath': 29505,\n",
       " u'strata': 29500,\n",
       " u'timorese': 30936,\n",
       " u'ferdinan': 13859,\n",
       " u'estimate': 13085,\n",
       " u'universally': 32005,\n",
       " u'chlorine': 8597,\n",
       " u'silent': 28293,\n",
       " u'sys': 30170,\n",
       " u'segragation': 27782,\n",
       " u'ministries': 20999,\n",
       " u'kfu': 18639,\n",
       " u'maladies': 20125,\n",
       " u'megabytes': 20625,\n",
       " u'olds': 22731,\n",
       " u'alphaean': 5035,\n",
       " u'jizat': 18203,\n",
       " u'service': 27919,\n",
       " u'kortink': 18855,\n",
       " u'svhs': 30033,\n",
       " u'needed': 21906,\n",
       " u'_say_': 4049,\n",
       " u'21934': 1686,\n",
       " u'gallileo': 14718,\n",
       " u'genesis': 14874,\n",
       " u'rewards': 26691,\n",
       " u'zeroth': 34044,\n",
       " u'mutilated': 21659,\n",
       " u'inetnet': 17242,\n",
       " u'positively': 24476,\n",
       " u'feasibility': 13797,\n",
       " u'ahmed': 4808,\n",
       " u'anniversaries': 5288,\n",
       " u'195513': 1130,\n",
       " u'idle': 16778,\n",
       " u'feeling': 13824,\n",
       " u'similitude': 28322,\n",
       " u'longs': 19719,\n",
       " u'whitcomb': 33317,\n",
       " u'6812': 2997,\n",
       " u'spectrum': 28959,\n",
       " u'deamon': 10716,\n",
       " u'dozen': 11958,\n",
       " u'vgl': 32648,\n",
       " u'affairs': 4680,\n",
       " u'wholesome': 33334,\n",
       " u'rcst1a06405': 25785,\n",
       " u'vga': 32645,\n",
       " u'vgx': 32649,\n",
       " u'rhcp': 26712,\n",
       " u'shipments': 28117,\n",
       " u'45th': 2515,\n",
       " u'committing': 9204,\n",
       " u'metrics': 20803,\n",
       " u'swiss': 30092,\n",
       " u'mouth': 21462,\n",
       " u'reverence': 26654,\n",
       " u'ashes': 5774,\n",
       " u'dailey': 10524,\n",
       " u'bradford': 7268,\n",
       " u'singer': 28360,\n",
       " u'tect': 30415,\n",
       " u'purges': 25329,\n",
       " u'vertices': 32620,\n",
       " u'tech': 30388,\n",
       " u'teck': 30412,\n",
       " u'hastings': 15859,\n",
       " u'purged': 25328,\n",
       " u'saying': 27435,\n",
       " u'tempter': 30495,\n",
       " u'padded': 23269,\n",
       " u'roseae': 26975,\n",
       " u'antly': 5369,\n",
       " u'tempted': 30494,\n",
       " u'cheaply': 8516,\n",
       " u'thai': 30629,\n",
       " u'orleans': 22996,\n",
       " u'statehouse': 29270,\n",
       " u'bliss': 6991,\n",
       " u'rick': 26740,\n",
       " u'rich': 26731,\n",
       " u'rice': 26730,\n",
       " u'plate': 24180,\n",
       " u'remotest': 26302,\n",
       " u'plato': 24187,\n",
       " u'umbilical': 31759,\n",
       " u'televangelists': 30460,\n",
       " u'theodosios': 30675,\n",
       " u'photoelectric': 23950,\n",
       " u'altogether': 5066,\n",
       " u'1pp991': 1323,\n",
       " u'platz': 24190,\n",
       " u'jaguar': 18040,\n",
       " u'rectal': 25991,\n",
       " u'nicely': 22105,\n",
       " u'patch': 23516,\n",
       " u'143434': 688,\n",
       " u'144427': 698,\n",
       " u'boarded': 7056,\n",
       " u'clarified': 8781,\n",
       " u'sensitivity': 27855,\n",
       " u'erikb': 12989,\n",
       " u'taligent': 30251,\n",
       " u'irz': 17886,\n",
       " u'youngstown': 33962,\n",
       " u'lots': 19773,\n",
       " u'irs': 17882,\n",
       " u'irt': 17883,\n",
       " u'irl': 17856,\n",
       " u'srinivas': 29134,\n",
       " u'ira': 17827,\n",
       " u'irc': 17841,\n",
       " u'ire': 17842,\n",
       " u'xvf': 33838,\n",
       " u'letting': 19358,\n",
       " u'extend': 13465,\n",
       " u'nature': 21820,\n",
       " u'nordley': 22288,\n",
       " u'extent': 13474,\n",
       " u'gobble': 15187,\n",
       " u'tyranny': 31625,\n",
       " u'6779': 2983,\n",
       " u'seleucids': 27805,\n",
       " u'heating': 15967,\n",
       " u'incense': 17076,\n",
       " u'ktj': 18908,\n",
       " u'lookin': 19724,\n",
       " u'parys': 23479,\n",
       " u'21619': 1675,\n",
       " u'veen': 32523,\n",
       " u'sstick': 29169,\n",
       " u'unsymmetrical': 32118,\n",
       " u'gopher': 15246,\n",
       " u'puech': 25260,\n",
       " u'godhead': 15194,\n",
       " u'frg': 14508,\n",
       " u'union': 31982,\n",
       " u'pilisar': 24054,\n",
       " u'fri': 14509,\n",
       " u'rgb': 26706,\n",
       " u'bothers': 7212,\n",
       " u'frr': 14551,\n",
       " u'much': 21546,\n",
       " u'leyfre': 19383,\n",
       " u'baloon': 6331,\n",
       " u'retrospect': 26626,\n",
       " u'spit': 29022,\n",
       " u'19326': 1108,\n",
       " u'davy': 10657,\n",
       " u'r4t': 25548,\n",
       " u'dave': 10638,\n",
       " u'spif': 29002,\n",
       " u'doubts': 11930,\n",
       " u'spin': 29007,\n",
       " u'propellants': 25059,\n",
       " u'wildcat': 33384,\n",
       " u'gimic': 15053,\n",
       " u'participatory': 23459,\n",
       " u'professionally': 24958,\n",
       " u'employ': 12636,\n",
       " u'fr5': 14406,\n",
       " u'kilcore': 18681,\n",
       " u'conditioned': 9479,\n",
       " u'5059': 2640,\n",
       " u'universalists': 32004,\n",
       " u'zoroaster': 34083,\n",
       " u'oxymoron': 23206,\n",
       " u'kayama': 18539,\n",
       " u'memorial': 20665,\n",
       " u'memoriam': 20666,\n",
       " u'malefactors': 20128,\n",
       " u'honk': 16387,\n",
       " u'democracies': 10985,\n",
       " u'split': 29038,\n",
       " u'principals': 24842,\n",
       " u'plaats': 24135,\n",
       " u'altas': 5046,\n",
       " u'khomenei': 18655,\n",
       " u'issac': 17946,\n",
       " u'qualifications': 25432,\n",
       " u'southy': 28825,\n",
       " u'boiler': 7094,\n",
       " u'000usd': 21,\n",
       " u'supper': 29903,\n",
       " u'engin': 12749,\n",
       " u'differentating': 11357,\n",
       " u'nffutils': 22085,\n",
       " u'academic': 4295,\n",
       " u'stillness': 29403,\n",
       " u'academia': 4294,\n",
       " u'nibby': 22098,\n",
       " u'mentorg': 20693,\n",
       " u'corporate': 9905,\n",
       " u'plaque': 24174,\n",
       " u'outlived': 23093,\n",
       " u'absurdities': 4273,\n",
       " u'dtax': 12088,\n",
       " u'homogeneity': 16370,\n",
       " u'isodata': 17926,\n",
       " u'nssdca': 22416,\n",
       " u'bevelizes': 6736,\n",
       " u'lasse': 19088,\n",
       " u'jim_brown': 18194,\n",
       " u'portrayed': 24454,\n",
       " u'hal': 15693,\n",
       " u'ham': 15714,\n",
       " u'hao': 15774,\n",
       " u'hab': 15651,\n",
       " u'hac': 15662,\n",
       " u'had': 15668,\n",
       " u'advancement': 4606,\n",
       " u'734879396': 3168,\n",
       " u'infonode': 17311,\n",
       " u'fortran': 14360,\n",
       " u'beloved': 6638,\n",
       " u'hap': 15775,\n",
       " u'har': 15786,\n",
       " u'has': 15851,\n",
       " u'hat': 15862,\n",
       " u'hav': 15882,\n",
       " u'esfandiar': 13048,\n",
       " u'dingebre': 11424,\n",
       " u'knock': 18786,\n",
       " u'969': 3739,\n",
       " u'survival': 29988,\n",
       " u'online': 22791,\n",
       " u'werdna': 33226,\n",
       " u'unequivocally': 31918,\n",
       " u'czl30': 10483,\n",
       " u'indicative': 17180,\n",
       " u'shadow': 28000,\n",
       " u'replace': 26379,\n",
       " u'annihiliation': 5286,\n",
       " u'cocluded': 8982,\n",
       " u'masonic': 20358,\n",
       " u'semi': 27823,\n",
       " u'alice': 4951,\n",
       " u'niels': 22133,\n",
       " u'warping': 33064,\n",
       " u'beneficial': 6660,\n",
       " u'76203': 3241,\n",
       " u'crowd': 10201,\n",
       " u'crowe': 10203,\n",
       " u'muhakkikiin': 21560,\n",
       " u'mosques': 21413,\n",
       " u'crown': 10205,\n",
       " u'begin': 6576,\n",
       " u'bham': 6753,\n",
       " u'deflection': 10889,\n",
       " u'crows': 10206,\n",
       " u'emphases': 12626,\n",
       " u'billboard': 6822,\n",
       " u'bottom': 7215,\n",
       " u'daaropvolgende': 10502,\n",
       " u'completly': 9329,\n",
       " u'borrows': 7192,\n",
       " u'aries': 5654,\n",
       " u'binder': 6843,\n",
       " u'anagram': 5180,\n",
       " u'_consider_': 3905,\n",
       " u'description____________________________________________________________': 11113,\n",
       " u'anomalous': 5310,\n",
       " u'antiproton': 5361,\n",
       " u'kilgore': 18682,\n",
       " u'1qk73q': 1397,\n",
       " u'lemmings': 19309,\n",
       " u'mangoe': 20179,\n",
       " u'mbk': 20478,\n",
       " u'maxwell': 20461,\n",
       " u'marshall': 20316,\n",
       " u'mbb': 20474,\n",
       " u'mbc': 20475,\n",
       " u'administer': 4549,\n",
       " u'beings': 6601,\n",
       " u'marshals': 20317,\n",
       " u'unrecognisable': 32077,\n",
       " u'mbp': 20479,\n",
       " u'despised': 11152,\n",
       " u'fabric': 13569,\n",
       " u'altitude': 5062,\n",
       " u'13676': 626,\n",
       " u'193829': 1115,\n",
       " u'raped': 25690,\n",
       " u'greatness': 15416,\n",
       " u'tamp': 30267,\n",
       " u'tamu': 30270,\n",
       " u'systems_': 30180,\n",
       " u'precendence': 24632,\n",
       " u'infoline': 17309,\n",
       " u'plasmaktm': 24176,\n",
       " u'verdi': 32576,\n",
       " u'endeth': 12707,\n",
       " u'toolkits': 31068,\n",
       " u'arrays': 5704,\n",
       " u'wksb14': 33524,\n",
       " u'scoriates': 27592,\n",
       " u'azp': 6207,\n",
       " u'univesa': 32016,\n",
       " u'dues': 12114,\n",
       " u'19580': 1135,\n",
       " u'passenger': 23490,\n",
       " u'females': 13850,\n",
       " u'4200': 2436,\n",
       " u'triangles': 31356,\n",
       " u'eventual': 13185,\n",
       " u'pasadena': 23481,\n",
       " u'role': 26935,\n",
       " u'brent': 7335,\n",
       " u'640x400x256': 2897,\n",
       " u'aerosol': 4663,\n",
       " u'roll': 26937,\n",
       " u'wedos': 33174,\n",
       " u'u895027': 31639,\n",
       " u'intend': 17564,\n",
       " u'palms': 23331,\n",
       " u'ointment': 22713,\n",
       " u'transported': 31283,\n",
       " u'intent': 17575,\n",
       " u'frustation': 14558,\n",
       " u'variable': 32458,\n",
       " u'transporter': 31284,\n",
       " u'aragorn': 5571,\n",
       " u'waffle': 32977,\n",
       " u'hawkes': 15898,\n",
       " u'explosions': 13436,\n",
       " u'loren': 19754,\n",
       " u'contadictorily': 9685,\n",
       " u'_count': 3907,\n",
       " u'shootout': 28147,\n",
       " u'80386': 3365,\n",
       " u'80387': 3366,\n",
       " u'141001e62763': 661,\n",
       " u'childs': 8576,\n",
       " u'corps': 9909,\n",
       " u'whoever': 33330,\n",
       " u'oss': 23033,\n",
       " u'graphmode': 15375,\n",
       " u'osi': 23027,\n",
       " u'chair': 8409,\n",
       " u'10511': 360,\n",
       " u'ose': 23024,\n",
       " u'osd': 23023,\n",
       " u'osf': 23025,\n",
       " u'grapples': 15383,\n",
       " u'21409': 1663,\n",
       " u'precognition': 24644,\n",
       " u'chistmas': 8595,\n",
       " u'pp335': 24560,\n",
       " u'crater': 10090,\n",
       " u'a0000': 4109,\n",
       " u'adventist': 4613,\n",
       " u'downloading': 11948,\n",
       " u'jerk': 18137,\n",
       " u'os3': 23015,\n",
       " u'os2': 23014,\n",
       " u'olympus': 22747,\n",
       " u'choice': 8604,\n",
       " u'netlib': 21983,\n",
       " u'colapse': 9036,\n",
       " u'rationality': 25731,\n",
       " u'stays': 29299,\n",
       " u'locked': 19677,\n",
       " u'exact': 13235,\n",
       " u'minute': 21016,\n",
       " u'preuss': 24793,\n",
       " u'mach1': 19950,\n",
       " u'skewed': 28436,\n",
       " u'facman': 13591,\n",
       " u'defaults': 10842,\n",
       " u'acheamenids': 4384,\n",
       " u'multiprocessing': 21586,\n",
       " u'magupati': 20057,\n",
       " u'meadow': 20559,\n",
       " u'shatim': 28050,\n",
       " u'309': 2120,\n",
       " u'044958': 162,\n",
       " u'rulings': 27123,\n",
       " u'announcementof': 5295,\n",
       " u'chopping': 8616,\n",
       " u'shirts': 28124,\n",
       " u'bastardisation': 6448,\n",
       " u'ufl': 31691,\n",
       " u'winecj': 33437,\n",
       " u'antwerp': 5373,\n",
       " u'abdullah': 4191,\n",
       " u'zrz': 34088,\n",
       " u'polygonal': 24369,\n",
       " u'300': 2087,\n",
       " u'geography': 14941,\n",
       " u'boost': 7161,\n",
       " u'unintentionally': 31977,\n",
       " u'siemon': 28249,\n",
       " u'honour': 16393,\n",
       " u'khaliphate': 18646,\n",
       " u'address': 4516,\n",
       " u'yeasteryears': 33908,\n",
       " u'benson': 6678,\n",
       " u'dusty': 12159,\n",
       " u'impacted': 16965,\n",
       " u'queue': 25500,\n",
       " u'accomplished': 4341,\n",
       " u'thorazine': 30776,\n",
       " u'vituperation': 32807,\n",
       " u'raise': 25631,\n",
       " u'proportion': 25081,\n",
       " u'sistemas': 28390,\n",
       " u'betraying': 6726,\n",
       " u'140493214334': 650,\n",
       " u'triangulated': 31358,\n",
       " u'darnell': 10600,\n",
       " u'undergone': 31870,\n",
       " u'working': 33600,\n",
       " u'perisol': 23757,\n",
       " u'pints': 24077,\n",
       " u'optimize': 22884,\n",
       " u'opposed': 22859,\n",
       " u'etude': 13125,\n",
       " u'overviews': 23176,\n",
       " u'_free_': 3940,\n",
       " u'familar': 13683,\n",
       " u'consoled': 9625,\n",
       " u'assimilation': 5842,\n",
       " u'rocsat': 26910,\n",
       " u's901924': 27195,\n",
       " u'originally': 22985,\n",
       " u'rutherford': 27166,\n",
       " u'abortion': 4232,\n",
       " u'xyz2': 33861,\n",
       " u'rider_': 26753,\n",
       " u'harmonious': 15822,\n",
       " u'following': 14239,\n",
       " u'caution': 8189,\n",
       " u'admired': 4561,\n",
       " u'osage': 23017,\n",
       " u'mirrors': 21036,\n",
       " u'mailboxes': 20072,\n",
       " u'parachute': 23371,\n",
       " u'locks': 19680,\n",
       " u'incremental': 17144,\n",
       " u'usno': 32262,\n",
       " u'usna': 32260,\n",
       " u'atmospherique': 5971,\n",
       " u'subroutines': 29675,\n",
       " u'pmolloy': 24269,\n",
       " u'stapel': 29230,\n",
       " u'atal': 5929,\n",
       " u'sterrenkunde': 29366,\n",
       " u'sour': 28813,\n",
       " u'convincingly': 9826,\n",
       " u'fueled': 14588,\n",
       " u'cuhk': 10338,\n",
       " u'egotistical': 12416,\n",
       " u'pulley': 25272,\n",
       " u'conscious': 9591,\n",
       " u'gothamcity': 15262,\n",
       " u'tweekco': 31579,\n",
       " u'subdivisions': 29639,\n",
       " u'mangh': 20176,\n",
       " u'subsisting': 29688,\n",
       " u'yoshiro': 33955,\n",
       " u'wolves': 33547,\n",
       " u'pulled': 25271,\n",
       " u'stylizied': 29624,\n",
       " u'differences': 11354,\n",
       " u'years': 33906,\n",
       " u'professors': 24961,\n",
       " u'structuring': 29581,\n",
       " u'episodes': 12919,\n",
       " u'jid': 18187,\n",
       " u'jib': 18186,\n",
       " u'infirmities': 17289,\n",
       " u'jim': 18193,\n",
       " u'troubles': 31438,\n",
       " u'jih': 18189,\n",
       " u'jiu': 18201,\n",
       " u'antipathy': 5360,\n",
       " u'suspension': 30008,\n",
       " u'troubled': 31436,\n",
       " u'ee02': 12375,\n",
       " u'recipients': 25930,\n",
       " u'civilian': 8747,\n",
       " u'bashful': 6428,\n",
       " u'indigenous': 17186,\n",
       " u'deburie': 10738,\n",
       " u'overpowering': 23153,\n",
       " u'sorted': 28795,\n",
       " u'jman': 18217,\n",
       " u'buphy': 7581,\n",
       " u'ladysmith': 18990,\n",
       " u'didn': 11331,\n",
       " u'_you_': 4105,\n",
       " u'dispite': 11621,\n",
       " u'fisherman': 14041,\n",
       " u'ji0': 18184,\n",
       " u'instability': 17487,\n",
       " u'quarter': 25467,\n",
       " u'retrieve': 26621,\n",
       " u'bursting': 7619,\n",
       " u'receipt': 25911,\n",
       " u'frames': 14423,\n",
       " u'c5nf8t': 7776,\n",
       " u'sponsor': 29054,\n",
       " u'entering': 12817,\n",
       " u'reorganized': 26351,\n",
       " u'disasters': 11486,\n",
       " u'troll': 31427,\n",
       " u'legisation': 19281,\n",
       " u'795': 3306,\n",
       " u'794': 3303,\n",
       " u'793': 3302,\n",
       " u'792': 3299,\n",
       " u'791': 3296,\n",
       " u'790': 3294,\n",
       " u'seds': 27753,\n",
       " u'seriously': 27904,\n",
       " u'trauma': 31300,\n",
       " u'internet': 17642,\n",
       " u'nsw': 22418,\n",
       " u'complicates': 9335,\n",
       " u'cjpeg': 8759,\n",
       " u'incentives': 17078,\n",
       " u'apagcho': 5399,\n",
       " u'ontario': 22797,\n",
       " u'complicated': 9334,\n",
       " u'1179': 465,\n",
       " u'apagchw': 5400,\n",
       " u'byte': 7673,\n",
       " u'xgraph': 33782,\n",
       " u'workmanship': 33603,\n",
       " u'brasil': 7292,\n",
       " u'modest': 21223,\n",
       " u'initiate': 17380,\n",
       " u'gordon': 15248,\n",
       " u'neglect': 21918,\n",
       " u'emotion': 12614,\n",
       " u'info': 17306,\n",
       " u'saving': 27420,\n",
       " u'symmetry': 30132,\n",
       " u'spoken': 29046,\n",
       " u'72210': 3104,\n",
       " u'veertien': 32524,\n",
       " u'one': 22780,\n",
       " u'punishable': 25301,\n",
       " u'periodical': 23747,\n",
       " u'ons': 22795,\n",
       " u'l4v': 18956,\n",
       " u'types': 31616,\n",
       " u'lazerus': 19174,\n",
       " u'datasys': 10627,\n",
       " u'surviving': 29993,\n",
       " u'c4uzus': 7700,\n",
       " u'herds': 16082,\n",
       " u'absorbs': 4262,\n",
       " u'southgate': 28822,\n",
       " u'wandering': 33033,\n",
       " u'1pst9uinn7tj': 1345,\n",
       " u'becaseu': 6536,\n",
       " u'illness': 16858,\n",
       " u'koranic': 18849,\n",
       " u'deposited': 11066,\n",
       " u'turned': 31550,\n",
       " u'locations': 19673,\n",
       " u'auroral': 6066,\n",
       " u'guldenspoorstraat': 15584,\n",
       " u'turner': 31551,\n",
       " u'geode16': 14928,\n",
       " u'ingoring': 17348,\n",
       " u'geode14': 14926,\n",
       " u'geode15': 14927,\n",
       " u'geode12': 14924,\n",
       " u'geode13': 14925,\n",
       " u'geode10': 14922,\n",
       " u'geode11': 14923,\n",
       " u'coliseum': 9048,\n",
       " u'zoo': 34072,\n",
       " u'intends': 17567,\n",
       " u'jahn': 18042,\n",
       " u'mayer': 20468,\n",
       " u'printer': 24852,\n",
       " u'opposite': 22861,\n",
       " u'buffer': 7510,\n",
       " u'vuurtoren': 32943,\n",
       " u'buffet': 7513,\n",
       " u'printed': 24851,\n",
       " u'knowingly': 18797,\n",
       " u'vishwa': 32772,\n",
       " u'_democracy_': 3916,\n",
       " u'technion': 30398,\n",
       " u'vords': 32885,\n",
       " u'230523': 1772,\n",
       " u'redirected': 26024,\n",
       " u'agoraphobe': 4778,\n",
       " u'dimensioned': 11413,\n",
       " u'imaginer': 16908,\n",
       " u'friction': 14510,\n",
       " u'elan': 12467,\n",
       " u'inconsistent': 17124,\n",
       " u'lexidata': 19381,\n",
       " u'soviets': 28830,\n",
       " u'imagined': 16907,\n",
       " u'reconciling': 25960,\n",
       " u'resaerch': 26475,\n",
       " u'3beta': 2352,\n",
       " u'rejoiced': 26194,\n",
       " u'windowed': 33428,\n",
       " u'simplistic': 28333,\n",
       " u'1raee7': 1502,\n",
       " u'awaiting': 6170,\n",
       " u'justified': 18435,\n",
       " u'e_p': 12210,\n",
       " u'sdoe': 27677,\n",
       " u'epistles': 12922,\n",
       " u'vision': 32775,\n",
       " u'backings': 6258,\n",
       " u'confernce': 9503,\n",
       " u'025426': 121,\n",
       " u'hpgl': 16492,\n",
       " u'euclid': 13130,\n",
       " u'rewarded': 26690,\n",
       " u'830': 3419,\n",
       " u'831': 3421,\n",
       " u'837': 3426,\n",
       " u'834': 3424,\n",
       " u'harvey': 15849,\n",
       " u'838': 3427,\n",
       " u'uncomprimising': 31833,\n",
       " u'sponsorship': 29057,\n",
       " u'kilometer': 18696,\n",
       " u'moons': 21342,\n",
       " u'relights': 26247,\n",
       " u'enjoys': 12777,\n",
       " u'geosync': 14960,\n",
       " u'euve': 13151,\n",
       " u'marietta': 20275,\n",
       " u'awards': 6174,\n",
       " u'menacing': 20673,\n",
       " u'vectorize': 32513,\n",
       " u'concentrated': 9419,\n",
       " u'circumference': 8718,\n",
       " u'1728': 940,\n",
       " u'5245': 2675,\n",
       " u'rhodes': 26718,\n",
       " u'amorc': 5153,\n",
       " u'1723': 939,\n",
       " u'millionaire': 20945,\n",
       " u'flipped': 14137,\n",
       " u'circulus': 8715,\n",
       " u'concentrates': 9420,\n",
       " u'semitic': 27829,\n",
       " u'c4y976': 7705,\n",
       " u'decodable': 10790,\n",
       " u'synoptic': 30162,\n",
       " u'doctoring': 11818,\n",
       " u'inerancy': 17230,\n",
       " u'witrh': 33512,\n",
       " u'baden': 6276,\n",
       " u'measn': 20576,\n",
       " u'epistemology': 12921,\n",
       " u'practises': 24585,\n",
       " u'collider': 9075,\n",
       " u'west': 33241,\n",
       " u'deuteronomy': 11209,\n",
       " u'practised': 24584,\n",
       " u'motives': 21438,\n",
       " u'spyglass': 29106,\n",
       " u'wants': 33043,\n",
       " u'dmorf': 11782,\n",
       " u'ocr104': 22627,\n",
       " u'formed': 14337,\n",
       " u'photon': 23965,\n",
       " u'readings': 25828,\n",
       " u'photos': 23971,\n",
       " u'reentered': 26054,\n",
       " u'extant': 13464,\n",
       " u'former': 14338,\n",
       " u'standard': 29213,\n",
       " u'bhava': 6754,\n",
       " u'kimura': 18706,\n",
       " u'grafsys3d': 15327,\n",
       " u'objectivism': 22544,\n",
       " u'straighten': 29480,\n",
       " u'ivem': 18006,\n",
       " u'objectivist': 22545,\n",
       " u'70a13': 3073,\n",
       " u'newspaper': 22059,\n",
       " u'situation': 28400,\n",
       " u'graphed': 15364,\n",
       " u'4dh': 2594,\n",
       " u'wire4': 33471,\n",
       " u'engaged': 12744,\n",
       " u'dubious': 12107,\n",
       " u'birdshot': 6883,\n",
       " u'cobol': 8972,\n",
       " u'zonker': 34071,\n",
       " u'pahl': 23285,\n",
       " u'technology': 30407,\n",
       " u'16453': 862,\n",
       " u'harrisons': 15837,\n",
       " u'ingrained': 17350,\n",
       " u'thrones': 30823,\n",
       " u'jsi': 18352,\n",
       " u'legalistic': 19267,\n",
       " u'7777': 3270,\n",
       " u'cunyvm': 10366,\n",
       " u'otto': 23058,\n",
       " u'visually': 32799,\n",
       " u'wires': 33475,\n",
       " u'edged': 12334,\n",
       " u'assigns': 5839,\n",
       " u'singapore': 28359,\n",
       " u'defy': 10898,\n",
       " u'deflate': 10885,\n",
       " u'jview': 18445,\n",
       " u'edges': 12335,\n",
       " u'wired': 33472,\n",
       " u'advertisement': 4625,\n",
       " u'461': 2520,\n",
       " u'wholeness': 33332,\n",
       " u'tracking': 31170,\n",
       " u'addressed': 4518,\n",
       " u'calverts': 7921,\n",
       " u'sunnyvale': 29843,\n",
       " u'dimension': 11411,\n",
       " u'19260': 1101,\n",
       " u'possesed': 24484,\n",
       " u'being': 6600,\n",
       " u'macdac': 19945,\n",
       " u'recycled': 26002,\n",
       " u'compatibel': 9280,\n",
       " u'rover': 27023,\n",
       " u'mrtifying': 21506,\n",
       " u'generator': 14869,\n",
       " u'kirk': 18729,\n",
       " u'teleoperated': 30450,\n",
       " u'reaction_diffusion': 25813,\n",
       " u'zion': 34056,\n",
       " u'rejoin': 26195,\n",
       " u'b11': 6214,\n",
       " u'sums': 29819,\n",
       " u'gestures': 14984,\n",
       " u'traffic': 31188,\n",
       " u'preference': 24690,\n",
       " u'world': 33610,\n",
       " u'postal': 24503,\n",
       " u'decomposer': 10798,\n",
       " u'axiarchism': 6197,\n",
       " u'unrepentant': 32083,\n",
       " u'shutter': 28214,\n",
       " u'wtte': 33708,\n",
       " u'petrich': 23860,\n",
       " u'militate': 20930,\n",
       " u'pubvpr': 25257,\n",
       " u'satisfactory': 27391,\n",
       " u'superintendent': 29885,\n",
       " u'crossposting': 10195,\n",
       " u'tvv': 31568,\n",
       " u'udev': 31687,\n",
       " u'pervading': 23833,\n",
       " u'diving': 11736,\n",
       " u'divine': 11734,\n",
       " u'cavity': 8201,\n",
       " u'919': 3596,\n",
       " u'918': 3594,\n",
       " u'915': 3589,\n",
       " u'914': 3588,\n",
       " u'916': 3591,\n",
       " u'restoring': 26571,\n",
       " u'comtemporary': 9406,\n",
       " u'disinformation': 11578,\n",
       " u'hiroki': 16220,\n",
       " u'leadership': 19208,\n",
       " u'spacelab': 28854,\n",
       " u'holak': 16319,\n",
       " u'exasperating': 13250,\n",
       " u'saundrsg': 27412,\n",
       " u'hopkins': 16413,\n",
       " u'disabilities': 11462,\n",
       " u'pallette': 23325,\n",
       " u'johnston': 18260,\n",
       " u'basin': 6438,\n",
       " u'rosst': 26987,\n",
       " u'perturbed': 23828,\n",
       " u'27599': 1955,\n",
       " u'rosse': 26985,\n",
       " u'qrt': 25415,\n",
       " u'conceptually': 9429,\n",
       " u'rossi': 26986,\n",
       " u'wustl': 33715,\n",
       " u'hominids': 16364,\n",
       " u'developable': 11215,\n",
       " u'glean': 15110,\n",
       " u'mindless': 20967,\n",
       " u'sealed': 27690,\n",
       " u'brazilian': 7304,\n",
       " u'trusses': 31456,\n",
       " u'wickard': 33358,\n",
       " u'societal': 28660,\n",
       " u'skee': 28428,\n",
       " u'pubinfo': 25240,\n",
       " u'legitimization': 19290,\n",
       " u'with': 33494,\n",
       " u'sradzy': 29126,\n",
       " u'abused': 4283,\n",
       " u'pull': 25270,\n",
       " u'rush': 27148,\n",
       " u'monopoly': 21311,\n",
       " u'tripe': 31398,\n",
       " u'operationally': 22839,\n",
       " u'dirty': 11459,\n",
       " u'abuses': 4284,\n",
       " u'asst': 5858,\n",
       " u'pulp': 25276,\n",
       " u'pdxgate': 23617,\n",
       " u'motecc': 21420,\n",
       " u'hannibal': 15767,\n",
       " u'australasian': 6074,\n",
       " u'watches': 33099,\n",
       " u'formulation': 14348,\n",
       " u'toontown': 31070,\n",
       " ...}"
      ]
     },
     "execution_count": 161,
     "metadata": {},
     "output_type": "execute_result"
    }
   ],
   "source": [
    "vectorizer.vocabulary_ # all vocabulary in twenty train small"
   ]
  },
  {
   "cell_type": "code",
   "execution_count": 162,
   "metadata": {
    "collapsed": false
   },
   "outputs": [
    {
     "data": {
      "text/plain": [
       "34118"
      ]
     },
     "execution_count": 162,
     "metadata": {},
     "output_type": "execute_result"
    }
   ],
   "source": [
    "len(vectorizer.vocabulary_)"
   ]
  },
  {
   "cell_type": "markdown",
   "metadata": {},
   "source": [
    "The keys of the `vocabulary_` attribute are also called feature names and can be accessed as a list of strings."
   ]
  },
  {
   "cell_type": "code",
   "execution_count": 163,
   "metadata": {
    "collapsed": false
   },
   "outputs": [
    {
     "data": {
      "text/plain": [
       "34118"
      ]
     },
     "execution_count": 163,
     "metadata": {},
     "output_type": "execute_result"
    }
   ],
   "source": [
    "len(vectorizer.get_feature_names())"
   ]
  },
  {
   "cell_type": "markdown",
   "metadata": {},
   "source": [
    "Here are the first 10 elements (sorted in lexicographical order):"
   ]
  },
  {
   "cell_type": "code",
   "execution_count": 164,
   "metadata": {
    "collapsed": false
   },
   "outputs": [
    {
     "data": {
      "text/plain": [
       "[u'00',\n",
       " u'000',\n",
       " u'0000',\n",
       " u'00000',\n",
       " u'000000',\n",
       " u'000005102000',\n",
       " u'000021',\n",
       " u'000062david42',\n",
       " u'0000vec',\n",
       " u'0001']"
      ]
     },
     "execution_count": 164,
     "metadata": {},
     "output_type": "execute_result"
    }
   ],
   "source": [
    "vectorizer.get_feature_names()[:10]"
   ]
  },
  {
   "cell_type": "markdown",
   "metadata": {},
   "source": [
    "Let's have a look at the features from the middle:"
   ]
  },
  {
   "cell_type": "code",
   "execution_count": 165,
   "metadata": {
    "collapsed": false
   },
   "outputs": [
    {
     "data": {
      "text/plain": [
       "[u'inadequate',\n",
       " u'inala',\n",
       " u'inalienable',\n",
       " u'inane',\n",
       " u'inanimate',\n",
       " u'inapplicable',\n",
       " u'inappropriate',\n",
       " u'inappropriately',\n",
       " u'inaudible',\n",
       " u'inbreeding']"
      ]
     },
     "execution_count": 165,
     "metadata": {},
     "output_type": "execute_result"
    }
   ],
   "source": [
    "vectorizer.get_feature_names()[n_features // 2:n_features // 2 + 10]"
   ]
  },
  {
   "cell_type": "markdown",
   "metadata": {},
   "source": [
    "Now that we have extracted a vector representation of the data, it's a good idea to project the data on the first 2D of a Principal Component Analysis to get a feel of the data. Note that the `TruncatedSVD` class can accept `scipy.sparse` matrices as input (as an alternative to numpy arrays):"
   ]
  },
  {
   "cell_type": "code",
   "execution_count": 170,
   "metadata": {
    "collapsed": false
   },
   "outputs": [
    {
     "name": "stdout",
     "output_type": "stream",
     "text": [
      "CPU times: user 99 ms, sys: 9.85 ms, total: 109 ms\n",
      "Wall time: 96.9 ms\n"
     ]
    },
    {
     "data": {
      "text/plain": [
       "'This transformer performs linear dimensionality reduction by means of\\ntruncated singular value decomposition (SVD). It is very similar to PCA,\\nbut operates on sample vectors directly, instead of on a covariance matrix.\\nThis means it can work with scipy.sparse matrices efficiently.'"
      ]
     },
     "execution_count": 170,
     "metadata": {},
     "output_type": "execute_result"
    }
   ],
   "source": [
    "from sklearn.decomposition import TruncatedSVD\n",
    "\n",
    "%time X_train_small_pca = TruncatedSVD(n_components=2).fit_transform(X_train_small)\n",
    "\"\"\"This transformer performs linear dimensionality reduction by means of\n",
    "truncated singular value decomposition (SVD). It is very similar to PCA,\n",
    "but operates on sample vectors directly, instead of on a covariance matrix.\n",
    "This means it can work with scipy.sparse matrices efficiently.\"\"\""
   ]
  },
  {
   "cell_type": "code",
   "execution_count": 169,
   "metadata": {
    "collapsed": false
   },
   "outputs": [
    {
     "data": {
      "text/plain": [
       "(2034, 2)"
      ]
     },
     "execution_count": 169,
     "metadata": {},
     "output_type": "execute_result"
    }
   ],
   "source": [
    "X_train_small_pca.shape # n_components = 2"
   ]
  },
  {
   "cell_type": "code",
   "execution_count": 223,
   "metadata": {
    "collapsed": false
   },
   "outputs": [
    {
     "data": {
      "image/png": "[encoded data removed]",
      "text/plain": [
       "<matplotlib.figure.Figure at 0x115184210>"
      ]
     },
     "metadata": {},
     "output_type": "display_data"
    }
   ],
   "source": [
    "from itertools import cycle\n",
    "\n",
    "colors = ['b', 'g', 'r', 'c', 'm', 'y', 'k']\n",
    "for i, c in zip(np.unique(y_train), cycle(colors)):\n",
    "    plt.scatter(X_train_small_pca[y_train == i, 0],\n",
    "               X_train_small_pca[y_train == i, 1],\n",
    "               c=c, label=twenty_train_small.target_names[i], alpha=0.5)\n",
    "    \n",
    "plt.legend(loc='best');"
   ]
  },
  {
   "cell_type": "markdown",
   "metadata": {},
   "source": [
    "We can observe that there is a large overlap of the samples from different categories. This is to be expected as the PCA linear projection projects data from a 34118 dimensional space down to 2 dimensions: data that is linearly separable in 34118D is often no longer linearly separable in 2D.\n",
    "    \n",
    "Still we can notice an interesting pattern: the newsgroups on religion and atheism occupy the much the same region and computer graphics and space science / space overlap more together than they do with the religion or atheism newsgroups."
   ]
  },
  {
   "cell_type": "markdown",
   "metadata": {},
   "source": [
    "### Training a Classifier on Text Features"
   ]
  },
  {
   "cell_type": "markdown",
   "metadata": {},
   "source": [
    "We have previously extracted a vector representation of the training corpus and put it into a variable name `X_train_small`. To train a supervised model, in this case a classifier, we also need "
   ]
  },
  {
   "cell_type": "code",
   "execution_count": 215,
   "metadata": {
    "collapsed": false
   },
   "outputs": [
    {
     "data": {
      "text/plain": [
       "(['target_names', 'data', 'target', 'DESCR', 'filenames'],\n",
       " ['alt.atheism', 'comp.graphics', 'sci.space', 'talk.religion.misc'])"
      ]
     },
     "execution_count": 215,
     "metadata": {},
     "output_type": "execute_result"
    }
   ],
   "source": [
    "twenty_train_small.keys(), twenty_train_small.target_names # we have 4 targets"
   ]
  },
  {
   "cell_type": "code",
   "execution_count": 172,
   "metadata": {
    "collapsed": false
   },
   "outputs": [],
   "source": [
    "y_train_small = twenty_train_small.target"
   ]
  },
  {
   "cell_type": "code",
   "execution_count": 173,
   "metadata": {
    "collapsed": false
   },
   "outputs": [
    {
     "data": {
      "text/plain": [
       "(2034,)"
      ]
     },
     "execution_count": 173,
     "metadata": {},
     "output_type": "execute_result"
    }
   ],
   "source": [
    "y_train_small.shape"
   ]
  },
  {
   "cell_type": "code",
   "execution_count": 174,
   "metadata": {
    "collapsed": false
   },
   "outputs": [
    {
     "data": {
      "text/plain": [
       "array([1, 2, 2, ..., 2, 1, 1])"
      ]
     },
     "execution_count": 174,
     "metadata": {},
     "output_type": "execute_result"
    }
   ],
   "source": [
    "y_train_small # 4 targets. 'alt.atheism', 'comp.graphics', 'sci.space', 'talk.religion.misc'"
   ]
  },
  {
   "cell_type": "code",
   "execution_count": 178,
   "metadata": {
    "collapsed": false
   },
   "outputs": [
    {
     "data": {
      "text/plain": [
       "(0, 3, 1.4262536873156342)"
      ]
     },
     "execution_count": 178,
     "metadata": {},
     "output_type": "execute_result"
    }
   ],
   "source": [
    "y_train_small.min(), y_train_small.max(), y_train_small.mean()"
   ]
  },
  {
   "cell_type": "markdown",
   "metadata": {},
   "source": [
    "We can shape that we have the same number of samples for the input data and the labels:"
   ]
  },
  {
   "cell_type": "code",
   "execution_count": 179,
   "metadata": {
    "collapsed": false
   },
   "outputs": [
    {
     "data": {
      "text/plain": [
       "True"
      ]
     },
     "execution_count": 179,
     "metadata": {},
     "output_type": "execute_result"
    }
   ],
   "source": [
    "X_train_small.shape[0] == y_train_small.shape[0]"
   ]
  },
  {
   "cell_type": "markdown",
   "metadata": {},
   "source": [
    "We can now train a classifier, for instance a Multinomial Naive Bayesian classifier:"
   ]
  },
  {
   "cell_type": "code",
   "execution_count": 195,
   "metadata": {
    "collapsed": false
   },
   "outputs": [
    {
     "data": {
      "text/plain": [
       "MultinomialNB(alpha=0.1, class_prior=None, fit_prior=True)"
      ]
     },
     "execution_count": 195,
     "metadata": {},
     "output_type": "execute_result"
    }
   ],
   "source": [
    "from sklearn.naive_bayes import MultinomialNB\n",
    "\"\"\"The multinomial Naive Bayes classifier is suitable for classification with\n",
    "discrete features (e.g., word counts for text classification). The\n",
    "multinomial distribution normally requires integer feature counts. However,\n",
    "in practice, fractional counts such as tf-idf may also work.\n",
    "\"\"\"\n",
    "clf = MultinomialNB(alpha=.1)\n",
    "clf"
   ]
  },
  {
   "cell_type": "code",
   "execution_count": 207,
   "metadata": {
    "collapsed": false
   },
   "outputs": [
    {
     "data": {
      "text/plain": [
       "MultinomialNB(alpha=0.1, class_prior=None, fit_prior=True)"
      ]
     },
     "execution_count": 207,
     "metadata": {},
     "output_type": "execute_result"
    }
   ],
   "source": [
    "clf.fit(X_train_small, y_train_small) #X_train_small is a sparse matrix, y_train_small is an array"
   ]
  },
  {
   "cell_type": "markdown",
   "metadata": {},
   "source": [
    "We can now evaluate the classifier on the testing set. Let's first use the builtin score function, which is the rate of correct classification in the test set:"
   ]
  },
  {
   "cell_type": "code",
   "execution_count": 197,
   "metadata": {
    "collapsed": false
   },
   "outputs": [],
   "source": [
    "X_test_small = vectorizer.transform(twenty_test_small.data)\n",
    "y_test_small = twenty_test_small.target"
   ]
  },
  {
   "cell_type": "code",
   "execution_count": 198,
   "metadata": {
    "collapsed": false
   },
   "outputs": [
    {
     "data": {
      "text/plain": [
       "(1353, 34118)"
      ]
     },
     "execution_count": 198,
     "metadata": {},
     "output_type": "execute_result"
    }
   ],
   "source": [
    "X_test_small.shape"
   ]
  },
  {
   "cell_type": "code",
   "execution_count": 199,
   "metadata": {
    "collapsed": false
   },
   "outputs": [
    {
     "data": {
      "text/plain": [
       "(1353,)"
      ]
     },
     "execution_count": 199,
     "metadata": {},
     "output_type": "execute_result"
    }
   ],
   "source": [
    "y_test_small.shape"
   ]
  },
  {
   "cell_type": "code",
   "execution_count": 202,
   "metadata": {
    "collapsed": false
   },
   "outputs": [
    {
     "data": {
      "text/plain": [
       "0.89652623798965259"
      ]
     },
     "execution_count": 202,
     "metadata": {},
     "output_type": "execute_result"
    }
   ],
   "source": [
    "clf.score(X_test_small, y_test_small)"
   ]
  },
  {
   "cell_type": "code",
   "execution_count": 203,
   "metadata": {
    "collapsed": false
   },
   "outputs": [
    {
     "data": {
      "text/plain": [
       "0.99262536873156337"
      ]
     },
     "execution_count": 203,
     "metadata": {},
     "output_type": "execute_result"
    }
   ],
   "source": [
    "clf.score(X_train_small, y_train_small)"
   ]
  },
  {
   "cell_type": "markdown",
   "metadata": {},
   "source": [
    "We can also compute the score on the test set and observe that the model is both overfitting and underfitting a bit at the same time:"
   ]
  },
  {
   "cell_type": "markdown",
   "metadata": {},
   "source": [
    "### Introspecting the Behavior of the Text Vectorizer"
   ]
  },
  {
   "cell_type": "markdown",
   "metadata": {},
   "source": [
    "The text vectorizer has many parameters to customize it's behavior, in particular how it extracts tokens:"
   ]
  },
  {
   "cell_type": "code",
   "execution_count": 226,
   "metadata": {
    "collapsed": false
   },
   "outputs": [
    {
     "data": {
      "text/plain": [
       "TfidfVectorizer(analyzer=u'word', binary=False, decode_error=u'strict',\n",
       "        dtype=<type 'numpy.int64'>, encoding=u'utf-8', input=u'content',\n",
       "        lowercase=True, max_df=1.0, max_features=None, min_df=1,\n",
       "        ngram_range=(1, 1), norm=u'l2', preprocessor=None, smooth_idf=True,\n",
       "        stop_words=None, strip_accents=None, sublinear_tf=False,\n",
       "        token_pattern=u'(?u)\\\\b\\\\w\\\\w+\\\\b', tokenizer=None, use_idf=True,\n",
       "        vocabulary=None)"
      ]
     },
     "execution_count": 226,
     "metadata": {},
     "output_type": "execute_result"
    }
   ],
   "source": [
    "TfidfVectorizer()"
   ]
  },
  {
   "cell_type": "code",
   "execution_count": 227,
   "metadata": {
    "collapsed": false
   },
   "outputs": [
    {
     "name": "stdout",
     "output_type": "stream",
     "text": [
      "Convert a collection of raw documents to a matrix of TF-IDF features.\n",
      "\n",
      "    Equivalent to CountVectorizer followed by TfidfTransformer.\n",
      "\n",
      "    Read more in the :ref:`User Guide <text_feature_extraction>`.\n",
      "\n",
      "    Parameters\n",
      "    ----------\n",
      "    input : string {'filename', 'file', 'content'}\n",
      "        If 'filename', the sequence passed as an argument to fit is\n",
      "        expected to be a list of filenames that need reading to fetch\n",
      "        the raw content to analyze.\n",
      "\n",
      "        If 'file', the sequence items must have a 'read' method (file-like\n",
      "        object) that is called to fetch the bytes in memory.\n",
      "\n",
      "        Otherwise the input is expected to be the sequence strings or\n",
      "        bytes items are expected to be analyzed directly.\n",
      "\n",
      "    encoding : string, 'utf-8' by default.\n",
      "        If bytes or files are given to analyze, this encoding is used to\n",
      "        decode.\n",
      "\n",
      "    decode_error : {'strict', 'ignore', 'replace'}\n",
      "        Instruction on what to do if a byte sequence is given to analyze that\n",
      "        contains characters not of the given `encoding`. By default, it is\n",
      "        'strict', meaning that a UnicodeDecodeError will be raised. Other\n",
      "        values are 'ignore' and 'replace'.\n",
      "\n",
      "    strip_accents : {'ascii', 'unicode', None}\n",
      "        Remove accents during the preprocessing step.\n",
      "        'ascii' is a fast method that only works on characters that have\n",
      "        an direct ASCII mapping.\n",
      "        'unicode' is a slightly slower method that works on any characters.\n",
      "        None (default) does nothing.\n",
      "\n",
      "    analyzer : string, {'word', 'char'} or callable\n",
      "        Whether the feature should be made of word or character n-grams.\n",
      "\n",
      "        If a callable is passed it is used to extract the sequence of features\n",
      "        out of the raw, unprocessed input.\n",
      "\n",
      "    preprocessor : callable or None (default)\n",
      "        Override the preprocessing (string transformation) stage while\n",
      "        preserving the tokenizing and n-grams generation steps.\n",
      "\n",
      "    tokenizer : callable or None (default)\n",
      "        Override the string tokenization step while preserving the\n",
      "        preprocessing and n-grams generation steps.\n",
      "        Only applies if ``analyzer == 'word'``.\n",
      "\n",
      "    ngram_range : tuple (min_n, max_n)\n",
      "        The lower and upper boundary of the range of n-values for different\n",
      "        n-grams to be extracted. All values of n such that min_n <= n <= max_n\n",
      "        will be used.\n",
      "\n",
      "    stop_words : string {'english'}, list, or None (default)\n",
      "        If a string, it is passed to _check_stop_list and the appropriate stop\n",
      "        list is returned. 'english' is currently the only supported string\n",
      "        value.\n",
      "\n",
      "        If a list, that list is assumed to contain stop words, all of which\n",
      "        will be removed from the resulting tokens.\n",
      "        Only applies if ``analyzer == 'word'``.\n",
      "\n",
      "        If None, no stop words will be used. max_df can be set to a value\n",
      "        in the range [0.7, 1.0) to automatically detect and filter stop\n",
      "        words based on intra corpus document frequency of terms.\n",
      "\n",
      "    lowercase : boolean, default True\n",
      "        Convert all characters to lowercase before tokenizing.\n",
      "\n",
      "    token_pattern : string\n",
      "        Regular expression denoting what constitutes a \"token\", only used\n",
      "        if ``analyzer == 'word'``. The default regexp selects tokens of 2\n",
      "        or more alphanumeric characters (punctuation is completely ignored\n",
      "        and always treated as a token separator).\n",
      "\n",
      "    max_df : float in range [0.0, 1.0] or int, default=1.0\n",
      "        When building the vocabulary ignore terms that have a document\n",
      "        frequency strictly higher than the given threshold (corpus-specific\n",
      "        stop words).\n",
      "        If float, the parameter represents a proportion of documents, integer\n",
      "        absolute counts.\n",
      "        This parameter is ignored if vocabulary is not None.\n",
      "\n",
      "    min_df : float in range [0.0, 1.0] or int, default=1\n",
      "        When building the vocabulary ignore terms that have a document\n",
      "        frequency strictly lower than the given threshold. This value is also\n",
      "        called cut-off in the literature.\n",
      "        If float, the parameter represents a proportion of documents, integer\n",
      "        absolute counts.\n",
      "        This parameter is ignored if vocabulary is not None.\n",
      "\n",
      "    max_features : int or None, default=None\n",
      "        If not None, build a vocabulary that only consider the top\n",
      "        max_features ordered by term frequency across the corpus.\n",
      "\n",
      "        This parameter is ignored if vocabulary is not None.\n",
      "\n",
      "    vocabulary : Mapping or iterable, optional\n",
      "        Either a Mapping (e.g., a dict) where keys are terms and values are\n",
      "        indices in the feature matrix, or an iterable over terms. If not\n",
      "        given, a vocabulary is determined from the input documents.\n",
      "\n",
      "    binary : boolean, default=False\n",
      "        If True, all non-zero term counts are set to 1. This does not mean\n",
      "        outputs will have only 0/1 values, only that the tf term in tf-idf\n",
      "        is binary. (Set idf and normalization to False to get 0/1 outputs.)\n",
      "\n",
      "    dtype : type, optional\n",
      "        Type of the matrix returned by fit_transform() or transform().\n",
      "\n",
      "    norm : 'l1', 'l2' or None, optional\n",
      "        Norm used to normalize term vectors. None for no normalization.\n",
      "\n",
      "    use_idf : boolean, default=True\n",
      "        Enable inverse-document-frequency reweighting.\n",
      "\n",
      "    smooth_idf : boolean, default=True\n",
      "        Smooth idf weights by adding one to document frequencies, as if an\n",
      "        extra document was seen containing every term in the collection\n",
      "        exactly once. Prevents zero divisions.\n",
      "\n",
      "    sublinear_tf : boolean, default=False\n",
      "        Apply sublinear tf scaling, i.e. replace tf with 1 + log(tf).\n",
      "\n",
      "    Attributes\n",
      "    ----------\n",
      "    vocabulary_ : dict\n",
      "        A mapping of terms to feature indices.\n",
      "\n",
      "    idf_ : array, shape = [n_features], or None\n",
      "        The learned idf vector (global term weights)\n",
      "        when ``use_idf`` is set to True, None otherwise.\n",
      "\n",
      "    stop_words_ : set\n",
      "        Terms that were ignored because they either:\n",
      "\n",
      "          - occurred in too many documents (`max_df`)\n",
      "          - occurred in too few documents (`min_df`)\n",
      "          - were cut off by feature selection (`max_features`).\n",
      "\n",
      "        This is only available if no vocabulary was given.\n",
      "\n",
      "    See also\n",
      "    --------\n",
      "    CountVectorizer\n",
      "        Tokenize the documents and count the occurrences of token and return\n",
      "        them as a sparse matrix\n",
      "\n",
      "    TfidfTransformer\n",
      "        Apply Term Frequency Inverse Document Frequency normalization to a\n",
      "        sparse matrix of occurrence counts.\n",
      "\n",
      "    Notes\n",
      "    -----\n",
      "    The ``stop_words_`` attribute can get large and increase the model size\n",
      "    when pickling. This attribute is provided only for introspection and can\n",
      "    be safely removed using delattr or set to None before pickling.\n",
      "    \n"
     ]
    }
   ],
   "source": [
    "print(TfidfVectorizer.__doc__)"
   ]
  },
  {
   "cell_type": "markdown",
   "metadata": {},
   "source": [
    "The easiest way to introspect what the vectorizer is actually doing for a given test of parameters is call the `vectorizer.build_analyzer()` to get an instance of the text analyzer it uses to process the text:"
   ]
  },
  {
   "cell_type": "code",
   "execution_count": 228,
   "metadata": {
    "collapsed": false
   },
   "outputs": [
    {
     "data": {
      "text/plain": [
       "[u'love', u'scikit', u'learn', u'this', u'is', u'cool', u'python', u'lib']"
      ]
     },
     "execution_count": 228,
     "metadata": {},
     "output_type": "execute_result"
    }
   ],
   "source": [
    "analyzer = TfidfVectorizer().build_analyzer()\n",
    "analyzer(\"I love scikit-learn: this is a cool Python lib!\")"
   ]
  },
  {
   "cell_type": "markdown",
   "metadata": {},
   "source": [
    "You can notice that all the tokens are lowercase, that the single letter word \"I\" was dropped, and that hyphenation is used. Let's change some of that default behavior:"
   ]
  },
  {
   "cell_type": "code",
   "execution_count": 229,
   "metadata": {
    "collapsed": false
   },
   "outputs": [
    {
     "data": {
      "text/plain": [
       "[u'I',\n",
       " u'love',\n",
       " u'scikit-learn',\n",
       " u'this',\n",
       " u'is',\n",
       " u'a',\n",
       " u'cool',\n",
       " u'Python',\n",
       " u'lib']"
      ]
     },
     "execution_count": 229,
     "metadata": {},
     "output_type": "execute_result"
    }
   ],
   "source": [
    "analyzer = TfidfVectorizer(\n",
    "    preprocessor=lambda text: text,  # disable lowercasing\n",
    "    token_pattern=r'(?u)\\b[\\w-]+\\b', # treat hyphen as a letter\n",
    "                                      # do not exclude single letter tokens\n",
    ").build_analyzer()\n",
    "\n",
    "analyzer(\"I love scikit-learn: this is a cool Python lib!\")"
   ]
  },
  {
   "cell_type": "markdown",
   "metadata": {},
   "source": [
    "The analyzer name comes from the Lucene parlance: it wraps the sequential application of:\n",
    "\n",
    "- text preprocessing (processing the text documents as a whole, e.g. lowercasing)\n",
    "- text tokenization (splitting the document into a sequence of tokens)\n",
    "- token filtering and recombination (e.g. n-grams extraction, see later)\n",
    "\n",
    "The analyzer system of scikit-learn is much more basic than lucene's though."
   ]
  },
  {
   "cell_type": "markdown",
   "metadata": {},
   "source": [
    "**Exercise**:\n",
    "\n",
    "- Write a pre-processor callable (e.g. a python function) to remove the headers of the text a newsgroup post.\n",
    "- Vectorize the data again and measure the impact on performance of removing the header info from the dataset.\n",
    "- Do you expect the performance of the model to improve or decrease? What is the score of a uniform random classifier on the same dataset?\n",
    "\n",
    "Hint: the `TfidfVectorizer` class can accept python functions to customize the `preprocessor`, `tokenizer` or `analyzer` stages of the vectorizer.\n",
    "    \n",
    "- type `TfidfVectorizer()` alone in a cell to see the default value of the parameters\n",
    "\n",
    "- type `TfidfVectorizer.__doc__` to print the constructor parameters doc or `?` suffix operator on a any Python class or method to read the docstring or even the `??` operator to read the source code."
   ]
  },
  {
   "cell_type": "code",
   "execution_count": null,
   "metadata": {
    "collapsed": false
   },
   "outputs": [],
   "source": []
  },
  {
   "cell_type": "code",
   "execution_count": null,
   "metadata": {
    "collapsed": false
   },
   "outputs": [],
   "source": [
    "# %load solutions/07A_1_strip_headers.py\n",
    "def strip_headers(post):\n",
    "    \"\"\"Find the first blank line and drop the headers to keep the body\"\"\"\n",
    "    if '\\n\\n' in post:\n",
    "        headers, body = post.split('\\n\\n', 1)\n",
    "        return body.lower()\n",
    "    else:\n",
    "        # Unexpected post inner-structure, be conservative\n",
    "        # and keep everything\n",
    "        return post.lower()\n",
    "\n",
    "\n",
    "print(\"#\" * 72)\n",
    "print(\"Original text:\\n\\n\")\n",
    "original_text = all_twenty_train.data[0]\n",
    "print(original_text)\n",
    "\n",
    "print(\"#\" * 72)\n",
    "print(\"Stripped headers text:\\n\\n\")\n",
    "text_body = strip_headers(original_text)\n",
    "print(text_body)\n"
   ]
  },
  {
   "cell_type": "code",
   "execution_count": null,
   "metadata": {
    "collapsed": false
   },
   "outputs": [],
   "source": []
  },
  {
   "cell_type": "code",
   "execution_count": null,
   "metadata": {
    "collapsed": false
   },
   "outputs": [],
   "source": [
    "# %load solutions/07A_2_evaluate_model.py\n",
    "strip_vectorizer = TfidfVectorizer(preprocessor=strip_headers, min_df=2)\n",
    "X_train_small_stripped = strip_vectorizer.fit_transform(\n",
    "    twenty_train_small.data)\n",
    "\n",
    "y_train_small_stripped = twenty_train_small.target\n",
    "\n",
    "classifier = MultinomialNB().fit(\n",
    "  X_train_small_stripped, y_train_small_stripped)\n",
    "\n",
    "print(\"Training score: {0:.1f}%\".format(\n",
    "    classifier.score(X_train_small_stripped, y_train_small_stripped) * 100))\n",
    "\n",
    "X_test_small_stripped = strip_vectorizer.transform(twenty_test_small.data)\n",
    "y_test_small_stripped = twenty_test_small.target\n",
    "print(\"Testing score: {0:.1f}%\".format(\n",
    "    classifier.score(X_test_small_stripped, y_test_small_stripped) * 100))\n",
    "\n",
    "# Analysis:\n",
    "# So indeed the header data is making the problem easier (cheating one could\n",
    "# say) but naive Bayes classifier can still guess 80% of the time against\n",
    "# 1 / 4 == 25% mean score for a random guessing on the small subset with\n",
    "# 4 target categories.\n"
   ]
  },
  {
   "cell_type": "markdown",
   "metadata": {},
   "source": [
    "## Model Selection of the Naive Bayes Classifier Parameter Alone"
   ]
  },
  {
   "cell_type": "markdown",
   "metadata": {},
   "source": [
    "The `MultinomialNB` class is a good baseline classifier for text as it's fast and has few parameters to tweak:"
   ]
  },
  {
   "cell_type": "code",
   "execution_count": 224,
   "metadata": {
    "collapsed": false
   },
   "outputs": [
    {
     "data": {
      "text/plain": [
       "MultinomialNB(alpha=1.0, class_prior=None, fit_prior=True)"
      ]
     },
     "execution_count": 224,
     "metadata": {},
     "output_type": "execute_result"
    }
   ],
   "source": [
    "MultinomialNB()"
   ]
  },
  {
   "cell_type": "code",
   "execution_count": 225,
   "metadata": {
    "collapsed": false
   },
   "outputs": [
    {
     "name": "stdout",
     "output_type": "stream",
     "text": [
      "\n",
      "    Naive Bayes classifier for multinomial models\n",
      "\n",
      "    The multinomial Naive Bayes classifier is suitable for classification with\n",
      "    discrete features (e.g., word counts for text classification). The\n",
      "    multinomial distribution normally requires integer feature counts. However,\n",
      "    in practice, fractional counts such as tf-idf may also work.\n",
      "\n",
      "    Read more in the :ref:`User Guide <multinomial_naive_bayes>`.\n",
      "\n",
      "    Parameters\n",
      "    ----------\n",
      "    alpha : float, optional (default=1.0)\n",
      "        Additive (Laplace/Lidstone) smoothing parameter\n",
      "        (0 for no smoothing).\n",
      "\n",
      "    fit_prior : boolean, optional (default=True)\n",
      "        Whether to learn class prior probabilities or not.\n",
      "        If false, a uniform prior will be used.\n",
      "\n",
      "    class_prior : array-like, size (n_classes,), optional (default=None)\n",
      "        Prior probabilities of the classes. If specified the priors are not\n",
      "        adjusted according to the data.\n",
      "\n",
      "    Attributes\n",
      "    ----------\n",
      "    class_log_prior_ : array, shape (n_classes, )\n",
      "        Smoothed empirical log probability for each class.\n",
      "\n",
      "    intercept_ : property\n",
      "        Mirrors ``class_log_prior_`` for interpreting MultinomialNB\n",
      "        as a linear model.\n",
      "\n",
      "    feature_log_prob_ : array, shape (n_classes, n_features)\n",
      "        Empirical log probability of features\n",
      "        given a class, ``P(x_i|y)``.\n",
      "\n",
      "    coef_ : property\n",
      "        Mirrors ``feature_log_prob_`` for interpreting MultinomialNB\n",
      "        as a linear model.\n",
      "\n",
      "    class_count_ : array, shape (n_classes,)\n",
      "        Number of samples encountered for each class during fitting. This\n",
      "        value is weighted by the sample weight when provided.\n",
      "\n",
      "    feature_count_ : array, shape (n_classes, n_features)\n",
      "        Number of samples encountered for each (class, feature)\n",
      "        during fitting. This value is weighted by the sample weight when\n",
      "        provided.\n",
      "\n",
      "    Examples\n",
      "    --------\n",
      "    >>> import numpy as np\n",
      "    >>> X = np.random.randint(5, size=(6, 100))\n",
      "    >>> y = np.array([1, 2, 3, 4, 5, 6])\n",
      "    >>> from sklearn.naive_bayes import MultinomialNB\n",
      "    >>> clf = MultinomialNB()\n",
      "    >>> clf.fit(X, y)\n",
      "    MultinomialNB(alpha=1.0, class_prior=None, fit_prior=True)\n",
      "    >>> print(clf.predict(X[2:3]))\n",
      "    [3]\n",
      "\n",
      "    Notes\n",
      "    -----\n",
      "    For the rationale behind the names `coef_` and `intercept_`, i.e.\n",
      "    naive Bayes as a linear classifier, see J. Rennie et al. (2003),\n",
      "    Tackling the poor assumptions of naive Bayes text classifiers, ICML.\n",
      "\n",
      "    References\n",
      "    ----------\n",
      "    C.D. Manning, P. Raghavan and H. Schuetze (2008). Introduction to\n",
      "    Information Retrieval. Cambridge University Press, pp. 234-265.\n",
      "    http://nlp.stanford.edu/IR-book/html/htmledition/naive-bayes-text-classification-1.html\n",
      "    \n"
     ]
    }
   ],
   "source": [
    "print(MultinomialNB.__doc__)"
   ]
  },
  {
   "cell_type": "markdown",
   "metadata": {},
   "source": [
    "By reading the doc we can see that the `alpha` parameter is a good candidate to adjust the model for the bias (underfitting) vs variance (overfitting) trade-off."
   ]
  },
  {
   "cell_type": "markdown",
   "metadata": {},
   "source": [
    "**Exercise**:\n",
    "    \n",
    "- use the `sklearn.grid_search.GridSearchCV` or the `model_selection.RandomizedGridSeach` utility function from the previous chapters to find a good value for the parameter `alpha`\n",
    "- plots the validation scores (and optionally the training scores) for each value of alpha and identify the areas where model overfits or underfits.\n",
    "    \n",
    "    \n",
    "Hints:\n",
    "    \n",
    "- you can search for values of alpha in the range [0.00001 - 1] using a logarithmic scale\n",
    "- `RandomizedGridSearch` also has a `launch_for_arrays` method as an alternative to `launch_for_splits` in case the CV splits have not been precomputed in advance.\n",
    "1"
   ]
  },
  {
   "cell_type": "code",
   "execution_count": null,
   "metadata": {
    "collapsed": false
   },
   "outputs": [],
   "source": []
  },
  {
   "cell_type": "code",
   "execution_count": null,
   "metadata": {
    "collapsed": false
   },
   "outputs": [],
   "source": [
    "# %load solutions/07B_grid_search_alpha_nb.py\n",
    "from sklearn.grid_search import GridSearchCV\n",
    "from pprint import pprint\n",
    "\n",
    "nb_params = {\n",
    "    'alpha': np.logspace(-3, 3, 7),\n",
    "}\n",
    "\n",
    "gs = GridSearchCV(MultinomialNB(), nb_params, cv=5, n_jobs=-1)\n",
    "gs.fit(X_train_small_stripped, y_train_small_stripped)\n",
    "\n",
    "pprint(gs.grid_scores_)\n",
    "print('Best alpha: %r' % gs.best_params_['alpha'])\n"
   ]
  },
  {
   "cell_type": "code",
   "execution_count": null,
   "metadata": {
    "collapsed": false
   },
   "outputs": [],
   "source": []
  },
  {
   "cell_type": "code",
   "execution_count": null,
   "metadata": {
    "collapsed": false
   },
   "outputs": [],
   "source": [
    "# %load solutions/07C_validation_curves_alpha.py\n",
    "from sklearn.learning_curve import validation_curve\n",
    "\n",
    "alpha_range = np.logspace(-6, 0, 7)\n",
    "\n",
    "train_scores, validation_scores = validation_curve(\n",
    "    MultinomialNB(), X_train_small_stripped, y_train_small_stripped,\n",
    "    'alpha', alpha_range, cv=5, n_jobs=-1)\n",
    "\n",
    "plt.semilogx(alpha_range, train_scores.mean(axis=1), label='train')\n",
    "plt.semilogx(alpha_range, validation_scores.mean(axis=1), label='validation')\n",
    "plt.legend(loc='best')\n",
    "_ = plt.title('Validation curves')\n",
    "\n",
    "# Analysis:\n",
    "# For low values of alpha (no smoothing), the model is not biased and hence free\n",
    "# to overfit. Smoothing a bit with `alpha=0.001` or `alpha=0.01` makes the\n",
    "# validation score increase a bit (thus overfitting a bit less but not by much).\n",
    "# If alpha is too strong the model is too biased or constrained and underfits.\n"
   ]
  },
  {
   "cell_type": "markdown",
   "metadata": {},
   "source": [
    "## Setting Up a Pipeline for Cross Validation and Model Selection of the Feature Extraction parameters"
   ]
  },
  {
   "cell_type": "markdown",
   "metadata": {},
   "source": [
    "The feature extraction class has many options to customize its behavior:"
   ]
  },
  {
   "cell_type": "code",
   "execution_count": 234,
   "metadata": {
    "collapsed": false
   },
   "outputs": [
    {
     "name": "stdout",
     "output_type": "stream",
     "text": [
      "Convert a collection of raw documents to a matrix of TF-IDF features.\n",
      "\n",
      "    Equivalent to CountVectorizer followed by TfidfTransformer.\n",
      "\n",
      "    Read more in the :ref:`User Guide <text_feature_extraction>`.\n",
      "\n",
      "    Parameters\n",
      "    ----------\n",
      "    input : string {'filename', 'file', 'content'}\n",
      "        If 'filename', the sequence passed as an argument to fit is\n",
      "        expected to be a list of filenames that need reading to fetch\n",
      "        the raw content to analyze.\n",
      "\n",
      "        If 'file', the sequence items must have a 'read' method (file-like\n",
      "        object) that is called to fetch the bytes in memory.\n",
      "\n",
      "        Otherwise the input is expected to be the sequence strings or\n",
      "        bytes items are expected to be analyzed directly.\n",
      "\n",
      "    encoding : string, 'utf-8' by default.\n",
      "        If bytes or files are given to analyze, this encoding is used to\n",
      "        decode.\n",
      "\n",
      "    decode_error : {'strict', 'ignore', 'replace'}\n",
      "        Instruction on what to do if a byte sequence is given to analyze that\n",
      "        contains characters not of the given `encoding`. By default, it is\n",
      "        'strict', meaning that a UnicodeDecodeError will be raised. Other\n",
      "        values are 'ignore' and 'replace'.\n",
      "\n",
      "    strip_accents : {'ascii', 'unicode', None}\n",
      "        Remove accents during the preprocessing step.\n",
      "        'ascii' is a fast method that only works on characters that have\n",
      "        an direct ASCII mapping.\n",
      "        'unicode' is a slightly slower method that works on any characters.\n",
      "        None (default) does nothing.\n",
      "\n",
      "    analyzer : string, {'word', 'char'} or callable\n",
      "        Whether the feature should be made of word or character n-grams.\n",
      "\n",
      "        If a callable is passed it is used to extract the sequence of features\n",
      "        out of the raw, unprocessed input.\n",
      "\n",
      "    preprocessor : callable or None (default)\n",
      "        Override the preprocessing (string transformation) stage while\n",
      "        preserving the tokenizing and n-grams generation steps.\n",
      "\n",
      "    tokenizer : callable or None (default)\n",
      "        Override the string tokenization step while preserving the\n",
      "        preprocessing and n-grams generation steps.\n",
      "        Only applies if ``analyzer == 'word'``.\n",
      "\n",
      "    ngram_range : tuple (min_n, max_n)\n",
      "        The lower and upper boundary of the range of n-values for different\n",
      "        n-grams to be extracted. All values of n such that min_n <= n <= max_n\n",
      "        will be used.\n",
      "\n",
      "    stop_words : string {'english'}, list, or None (default)\n",
      "        If a string, it is passed to _check_stop_list and the appropriate stop\n",
      "        list is returned. 'english' is currently the only supported string\n",
      "        value.\n",
      "\n",
      "        If a list, that list is assumed to contain stop words, all of which\n",
      "        will be removed from the resulting tokens.\n",
      "        Only applies if ``analyzer == 'word'``.\n",
      "\n",
      "        If None, no stop words will be used. max_df can be set to a value\n",
      "        in the range [0.7, 1.0) to automatically detect and filter stop\n",
      "        words based on intra corpus document frequency of terms.\n",
      "\n",
      "    lowercase : boolean, default True\n",
      "        Convert all characters to lowercase before tokenizing.\n",
      "\n",
      "    token_pattern : string\n",
      "        Regular expression denoting what constitutes a \"token\", only used\n",
      "        if ``analyzer == 'word'``. The default regexp selects tokens of 2\n",
      "        or more alphanumeric characters (punctuation is completely ignored\n",
      "        and always treated as a token separator).\n",
      "\n",
      "    max_df : float in range [0.0, 1.0] or int, default=1.0\n",
      "        When building the vocabulary ignore terms that have a document\n",
      "        frequency strictly higher than the given threshold (corpus-specific\n",
      "        stop words).\n",
      "        If float, the parameter represents a proportion of documents, integer\n",
      "        absolute counts.\n",
      "        This parameter is ignored if vocabulary is not None.\n",
      "\n",
      "    min_df : float in range [0.0, 1.0] or int, default=1\n",
      "        When building the vocabulary ignore terms that have a document\n",
      "        frequency strictly lower than the given threshold. This value is also\n",
      "        called cut-off in the literature.\n",
      "        If float, the parameter represents a proportion of documents, integer\n",
      "        absolute counts.\n",
      "        This parameter is ignored if vocabulary is not None.\n",
      "\n",
      "    max_features : int or None, default=None\n",
      "        If not None, build a vocabulary that only consider the top\n",
      "        max_features ordered by term frequency across the corpus.\n",
      "\n",
      "        This parameter is ignored if vocabulary is not None.\n",
      "\n",
      "    vocabulary : Mapping or iterable, optional\n",
      "        Either a Mapping (e.g., a dict) where keys are terms and values are\n",
      "        indices in the feature matrix, or an iterable over terms. If not\n",
      "        given, a vocabulary is determined from the input documents.\n",
      "\n",
      "    binary : boolean, default=False\n",
      "        If True, all non-zero term counts are set to 1. This does not mean\n",
      "        outputs will have only 0/1 values, only that the tf term in tf-idf\n",
      "        is binary. (Set idf and normalization to False to get 0/1 outputs.)\n",
      "\n",
      "    dtype : type, optional\n",
      "        Type of the matrix returned by fit_transform() or transform().\n",
      "\n",
      "    norm : 'l1', 'l2' or None, optional\n",
      "        Norm used to normalize term vectors. None for no normalization.\n",
      "\n",
      "    use_idf : boolean, default=True\n",
      "        Enable inverse-document-frequency reweighting.\n",
      "\n",
      "    smooth_idf : boolean, default=True\n",
      "        Smooth idf weights by adding one to document frequencies, as if an\n",
      "        extra document was seen containing every term in the collection\n",
      "        exactly once. Prevents zero divisions.\n",
      "\n",
      "    sublinear_tf : boolean, default=False\n",
      "        Apply sublinear tf scaling, i.e. replace tf with 1 + log(tf).\n",
      "\n",
      "    Attributes\n",
      "    ----------\n",
      "    vocabulary_ : dict\n",
      "        A mapping of terms to feature indices.\n",
      "\n",
      "    idf_ : array, shape = [n_features], or None\n",
      "        The learned idf vector (global term weights)\n",
      "        when ``use_idf`` is set to True, None otherwise.\n",
      "\n",
      "    stop_words_ : set\n",
      "        Terms that were ignored because they either:\n",
      "\n",
      "          - occurred in too many documents (`max_df`)\n",
      "          - occurred in too few documents (`min_df`)\n",
      "          - were cut off by feature selection (`max_features`).\n",
      "\n",
      "        This is only available if no vocabulary was given.\n",
      "\n",
      "    See also\n",
      "    --------\n",
      "    CountVectorizer\n",
      "        Tokenize the documents and count the occurrences of token and return\n",
      "        them as a sparse matrix\n",
      "\n",
      "    TfidfTransformer\n",
      "        Apply Term Frequency Inverse Document Frequency normalization to a\n",
      "        sparse matrix of occurrence counts.\n",
      "\n",
      "    Notes\n",
      "    -----\n",
      "    The ``stop_words_`` attribute can get large and increase the model size\n",
      "    when pickling. This attribute is provided only for introspection and can\n",
      "    be safely removed using delattr or set to None before pickling.\n",
      "    \n"
     ]
    }
   ],
   "source": [
    "print(TfidfVectorizer.__doc__)"
   ]
  },
  {
   "cell_type": "markdown",
   "metadata": {},
   "source": [
    "In order to evaluate the impact of the parameters of the feature extraction one can chain a configured feature extraction and linear classifier (as an alternative to the naive Bayes model):"
   ]
  },
  {
   "cell_type": "code",
   "execution_count": 250,
   "metadata": {
    "collapsed": true
   },
   "outputs": [],
   "source": [
    "from sklearn.linear_model import PassiveAggressiveClassifier\n",
    "from sklearn.pipeline import Pipeline\n",
    "\n",
    "pipeline = Pipeline((\n",
    "    ('vec', TfidfVectorizer(min_df=1, max_df=0.8, use_idf=True)),\n",
    "    ('clf', PassiveAggressiveClassifier(C=1)),\n",
    "))"
   ]
  },
  {
   "cell_type": "code",
   "execution_count": 251,
   "metadata": {
    "collapsed": false
   },
   "outputs": [
    {
     "data": {
      "text/plain": [
       "Pipeline(steps=(('vec', TfidfVectorizer(analyzer=u'word', binary=False, decode_error=u'strict',\n",
       "        dtype=<type 'numpy.int64'>, encoding=u'utf-8', input=u'content',\n",
       "        lowercase=True, max_df=0.8, max_features=None, min_df=1,\n",
       "        ngram_range=(1, 1), norm=u'l2', preprocessor=None, smooth_idf=True,...', n_iter=5, n_jobs=1, random_state=None,\n",
       "              shuffle=True, verbose=0, warm_start=False))))"
      ]
     },
     "execution_count": 251,
     "metadata": {},
     "output_type": "execute_result"
    }
   ],
   "source": [
    "pipeline # Here, chain of the two different estimators "
   ]
  },
  {
   "cell_type": "markdown",
   "metadata": {},
   "source": [
    "Such a pipeline can then be cross validated or even grid searched:"
   ]
  },
  {
   "cell_type": "code",
   "execution_count": 273,
   "metadata": {
    "collapsed": false
   },
   "outputs": [
    {
     "data": {
      "text/plain": [
       "(0.96264665812643602, 0.0046465788233490532)"
      ]
     },
     "execution_count": 273,
     "metadata": {},
     "output_type": "execute_result"
    }
   ],
   "source": [
    "from sklearn.cross_validation import cross_val_score\n",
    "from scipy.stats import sem\n",
    "vec = TfidfVectorizer(min_df=1, max_df=0.8, use_idf=True)\n",
    "clf = PassiveAggressiveClassifier(C=1)\n",
    "X= vec.fit_transform(twenty_train_small.data)\n",
    "scores = cross_val_score(clf, X,\n",
    "                         y=twenty_train_small.target, cv=3, n_jobs=-1)\n",
    "scores.mean(), sem(scores)"
   ]
  },
  {
   "cell_type": "code",
   "execution_count": 274,
   "metadata": {
    "collapsed": false
   },
   "outputs": [
    {
     "data": {
      "text/plain": [
       "(0.96313757614312723, 0.0042137960739275955)"
      ]
     },
     "execution_count": 274,
     "metadata": {},
     "output_type": "execute_result"
    }
   ],
   "source": [
    "from sklearn.cross_validation import cross_val_score\n",
    "from scipy.stats import sem\n",
    "\n",
    "scores = cross_val_score(pipeline, twenty_train_small.data,\n",
    "                         twenty_train_small.target, cv=3, n_jobs=-1)\n",
    "scores.mean(), sem(scores)"
   ]
  },
  {
   "cell_type": "code",
   "execution_count": 275,
   "metadata": {
    "collapsed": false
   },
   "outputs": [
    {
     "data": {
      "text/plain": [
       "(0.96264665812643602, 0.0046465788233490532)"
      ]
     },
     "execution_count": 275,
     "metadata": {},
     "output_type": "execute_result"
    }
   ],
   "source": [
    "\"\"\"see how pipeline works\"\"\"\n",
    "from sklearn.cross_validation import cross_val_score\n",
    "from scipy.stats import sem\n",
    "vec = TfidfVectorizer(min_df=1, max_df=0.8, use_idf=True)\n",
    "clf = PassiveAggressiveClassifier(C=1)\n",
    "X= vec.fit_transform(twenty_train_small.data)\n",
    "scores = cross_val_score(clf, X,\n",
    "                         y=twenty_train_small.target, cv=3, n_jobs=-1)\n",
    "scores.mean(), sem(scores)"
   ]
  },
  {
   "cell_type": "code",
   "execution_count": 260,
   "metadata": {
    "collapsed": false
   },
   "outputs": [
    {
     "data": {
      "text/plain": [
       "array([ 0.96170839,  0.95729013,  0.96893491])"
      ]
     },
     "execution_count": 260,
     "metadata": {},
     "output_type": "execute_result"
    }
   ],
   "source": [
    "scores"
   ]
  },
  {
   "cell_type": "markdown",
   "metadata": {},
   "source": [
    "For the grid search, the parameters names are prefixed with the name of the pipeline step using \"__\" as a separator:"
   ]
  },
  {
   "cell_type": "code",
   "execution_count": 237,
   "metadata": {
    "collapsed": false
   },
   "outputs": [
    {
     "name": "stderr",
     "output_type": "stream",
     "text": [
      "/usr/local/lib/python2.7/site-packages/sklearn/grid_search.py:43: DeprecationWarning: This module was deprecated in version 0.18 in favor of the model_selection module into which all the refactored classes and functions are moved. This module will be removed in 0.20.\n",
      "  DeprecationWarning)\n"
     ]
    },
    {
     "name": "stdout",
     "output_type": "stream",
     "text": [
      "Fitting 3 folds for each of 8 candidates, totalling 24 fits\n",
      "[CV] vec__max_df=0.8, vec__ngram_range=(1, 1), vec__use_idf=True .....\n",
      "[CV]  vec__max_df=0.8, vec__ngram_range=(1, 1), vec__use_idf=True -   0.6s\n",
      "[CV] vec__max_df=0.8, vec__ngram_range=(1, 1), vec__use_idf=True .....\n"
     ]
    },
    {
     "name": "stderr",
     "output_type": "stream",
     "text": [
      "[Parallel(n_jobs=1)]: Done   1 out of   1 | elapsed:    0.6s remaining:    0.0s\n"
     ]
    },
    {
     "name": "stdout",
     "output_type": "stream",
     "text": [
      "[CV]  vec__max_df=0.8, vec__ngram_range=(1, 1), vec__use_idf=True -   0.7s\n",
      "[CV] vec__max_df=0.8, vec__ngram_range=(1, 1), vec__use_idf=True .....\n",
      "[CV]  vec__max_df=0.8, vec__ngram_range=(1, 1), vec__use_idf=True -   0.7s\n",
      "[CV] vec__max_df=0.8, vec__ngram_range=(1, 1), vec__use_idf=False ....\n",
      "[CV]  vec__max_df=0.8, vec__ngram_range=(1, 1), vec__use_idf=False -   0.7s\n",
      "[CV] vec__max_df=0.8, vec__ngram_range=(1, 1), vec__use_idf=False ....\n",
      "[CV]  vec__max_df=0.8, vec__ngram_range=(1, 1), vec__use_idf=False -   0.7s\n",
      "[CV] vec__max_df=0.8, vec__ngram_range=(1, 1), vec__use_idf=False ....\n",
      "[CV]  vec__max_df=0.8, vec__ngram_range=(1, 1), vec__use_idf=False -   0.7s\n",
      "[CV] vec__max_df=0.8, vec__ngram_range=(1, 2), vec__use_idf=True .....\n",
      "[CV]  vec__max_df=0.8, vec__ngram_range=(1, 2), vec__use_idf=True -   2.6s\n",
      "[CV] vec__max_df=0.8, vec__ngram_range=(1, 2), vec__use_idf=True .....\n",
      "[CV]  vec__max_df=0.8, vec__ngram_range=(1, 2), vec__use_idf=True -   2.8s\n",
      "[CV] vec__max_df=0.8, vec__ngram_range=(1, 2), vec__use_idf=True .....\n",
      "[CV]  vec__max_df=0.8, vec__ngram_range=(1, 2), vec__use_idf=True -   2.9s\n",
      "[CV] vec__max_df=0.8, vec__ngram_range=(1, 2), vec__use_idf=False ....\n",
      "[CV]  vec__max_df=0.8, vec__ngram_range=(1, 2), vec__use_idf=False -   2.6s\n",
      "[CV] vec__max_df=0.8, vec__ngram_range=(1, 2), vec__use_idf=False ....\n",
      "[CV]  vec__max_df=0.8, vec__ngram_range=(1, 2), vec__use_idf=False -   2.6s\n",
      "[CV] vec__max_df=0.8, vec__ngram_range=(1, 2), vec__use_idf=False ....\n",
      "[CV]  vec__max_df=0.8, vec__ngram_range=(1, 2), vec__use_idf=False -   2.5s\n",
      "[CV] vec__max_df=1.0, vec__ngram_range=(1, 1), vec__use_idf=True .....\n",
      "[CV]  vec__max_df=1.0, vec__ngram_range=(1, 1), vec__use_idf=True -   0.7s\n",
      "[CV] vec__max_df=1.0, vec__ngram_range=(1, 1), vec__use_idf=True .....\n",
      "[CV]  vec__max_df=1.0, vec__ngram_range=(1, 1), vec__use_idf=True -   0.6s\n",
      "[CV] vec__max_df=1.0, vec__ngram_range=(1, 1), vec__use_idf=True .....\n",
      "[CV]  vec__max_df=1.0, vec__ngram_range=(1, 1), vec__use_idf=True -   0.7s\n",
      "[CV] vec__max_df=1.0, vec__ngram_range=(1, 1), vec__use_idf=False ....\n",
      "[CV]  vec__max_df=1.0, vec__ngram_range=(1, 1), vec__use_idf=False -   0.6s\n",
      "[CV] vec__max_df=1.0, vec__ngram_range=(1, 1), vec__use_idf=False ....\n",
      "[CV]  vec__max_df=1.0, vec__ngram_range=(1, 1), vec__use_idf=False -   0.6s\n",
      "[CV] vec__max_df=1.0, vec__ngram_range=(1, 1), vec__use_idf=False ....\n",
      "[CV]  vec__max_df=1.0, vec__ngram_range=(1, 1), vec__use_idf=False -   0.6s\n",
      "[CV] vec__max_df=1.0, vec__ngram_range=(1, 2), vec__use_idf=True .....\n",
      "[CV]  vec__max_df=1.0, vec__ngram_range=(1, 2), vec__use_idf=True -   2.3s\n",
      "[CV] vec__max_df=1.0, vec__ngram_range=(1, 2), vec__use_idf=True .....\n",
      "[CV]  vec__max_df=1.0, vec__ngram_range=(1, 2), vec__use_idf=True -   2.4s\n",
      "[CV] vec__max_df=1.0, vec__ngram_range=(1, 2), vec__use_idf=True .....\n",
      "[CV]  vec__max_df=1.0, vec__ngram_range=(1, 2), vec__use_idf=True -   2.6s\n",
      "[CV] vec__max_df=1.0, vec__ngram_range=(1, 2), vec__use_idf=False ....\n",
      "[CV]  vec__max_df=1.0, vec__ngram_range=(1, 2), vec__use_idf=False -   2.4s\n",
      "[CV] vec__max_df=1.0, vec__ngram_range=(1, 2), vec__use_idf=False ....\n",
      "[CV]  vec__max_df=1.0, vec__ngram_range=(1, 2), vec__use_idf=False -   2.6s\n",
      "[CV] vec__max_df=1.0, vec__ngram_range=(1, 2), vec__use_idf=False ....\n",
      "[CV]  vec__max_df=1.0, vec__ngram_range=(1, 2), vec__use_idf=False -   2.7s\n"
     ]
    },
    {
     "name": "stderr",
     "output_type": "stream",
     "text": [
      "[Parallel(n_jobs=1)]: Done  24 out of  24 | elapsed:   39.5s finished\n"
     ]
    }
   ],
   "source": [
    "from sklearn.grid_search import GridSearchCV\n",
    "\n",
    "parameters = {\n",
    "    #'vec__min_df': [1, 2],\n",
    "    'vec__max_df': [0.8, 1.0],\n",
    "    'vec__ngram_range': [(1, 1), (1, 2)],\n",
    "    'vec__use_idf': [True, False],\n",
    "}\n",
    "\n",
    "gs = GridSearchCV(pipeline, parameters, verbose=2, refit=False)\n",
    "_ = gs.fit(twenty_train_small.data, twenty_train_small.target)"
   ]
  },
  {
   "cell_type": "code",
   "execution_count": 238,
   "metadata": {
    "collapsed": false
   },
   "outputs": [
    {
     "data": {
      "text/plain": [
       "0.9641101278269419"
      ]
     },
     "execution_count": 238,
     "metadata": {},
     "output_type": "execute_result"
    }
   ],
   "source": [
    "gs.best_score_"
   ]
  },
  {
   "cell_type": "code",
   "execution_count": 239,
   "metadata": {
    "collapsed": false
   },
   "outputs": [
    {
     "data": {
      "text/plain": [
       "{'vec__max_df': 0.8, 'vec__ngram_range': (1, 1), 'vec__use_idf': True}"
      ]
     },
     "execution_count": 239,
     "metadata": {},
     "output_type": "execute_result"
    }
   ],
   "source": [
    "gs.best_params_"
   ]
  },
  {
   "cell_type": "markdown",
   "metadata": {},
   "source": [
    "## Introspecting Model Performance"
   ]
  },
  {
   "cell_type": "markdown",
   "metadata": {},
   "source": [
    "### Displaying the Most Discriminative Features"
   ]
  },
  {
   "cell_type": "markdown",
   "metadata": {},
   "source": [
    "Let's fit a model on the small dataset and collect info on the fitted components:"
   ]
  },
  {
   "cell_type": "code",
   "execution_count": 240,
   "metadata": {
    "collapsed": false
   },
   "outputs": [],
   "source": [
    "_ = pipeline.fit(twenty_train_small.data, twenty_train_small.target)"
   ]
  },
  {
   "cell_type": "code",
   "execution_count": 241,
   "metadata": {
    "collapsed": false
   },
   "outputs": [
    {
     "data": {
      "text/plain": [
       "(4, 34109)"
      ]
     },
     "execution_count": 241,
     "metadata": {},
     "output_type": "execute_result"
    }
   ],
   "source": [
    "vec_name, vec = pipeline.steps[0]\n",
    "clf_name, clf = pipeline.steps[1]\n",
    "\n",
    "feature_names = vec.get_feature_names()\n",
    "target_names = twenty_train_small.target_names\n",
    "\n",
    "feature_weights = clf.coef_\n",
    "\n",
    "feature_weights.shape"
   ]
  },
  {
   "cell_type": "markdown",
   "metadata": {},
   "source": [
    "By sorting the feature weights on the linear model and asking the vectorizer what their names is, one can get a clue on what the model did actually learn on the data:"
   ]
  },
  {
   "cell_type": "code",
   "execution_count": 242,
   "metadata": {
    "collapsed": false
   },
   "outputs": [
    {
     "name": "stdout",
     "output_type": "stream",
     "text": [
      "Class: alt.atheism\n",
      "\n",
      "atheism: 2.8858, keith: 2.6968, atheists: 2.5494, cobb: 2.0887, islamic: 1.7914, okcforum: 1.7654, religion: 1.7589, bobby: 1.6502, tammy: 1.6030, caltech: 1.5837, psilink: 1.5437, enviroleague: 1.5390, wwc: 1.5324, wingate: 1.5260, peace: 1.5166, freedom: 1.5035, osrhe: 1.5020, rice: 1.4449, rushdie: 1.4404, genocide: 1.4232, jaeger: 1.4101, liar: 1.3879, perry: 1.3761, tek: 1.3565, mangoe: 1.3556, psuvm: 1.2867, atheist: 1.2563, ingles: 1.2332, bible: 1.2249, charley: 1.2043\n",
      "...\n",
      "brian: -0.8691, files: -0.8705, deal: -0.8768, card: -0.8779, force: -0.8876, scic: -0.9034, software: -0.9053, josephus: -0.9136, data: -0.9145, 2000: -0.9248, ca: -0.9252, out: -0.9288, paul: -0.9320, morality: -0.9425, fbi: -0.9441, microsoft: -0.9449, christ: -0.9459, access: -0.9839, alaska: -1.0093, com: -1.0315, with: -1.0413, christians: -1.0428, muhammad: -1.0658, org: -1.1547, mail: -1.1838, image: -1.2052, graphics: -1.5849, hudson: -1.6735, christian: -1.7013, space: -1.9489\n",
      "\n",
      "Class: comp.graphics\n",
      "\n",
      "graphics: 4.1085, image: 2.2527, 3d: 2.0861, file: 1.9681, 42: 1.9026, files: 1.8871, animation: 1.8444, polygon: 1.7342, computer: 1.6311, points: 1.6217, 3do: 1.5783, video: 1.5483, tiff: 1.4850, windows: 1.4743, vga: 1.4450, package: 1.3744, format: 1.3312, color: 1.3194, any: 1.2857, code: 1.2841, need: 1.2721, pov: 1.2505, looking: 1.2420, card: 1.2348, email: 1.2340, line: 1.1896, quicktime: 1.1763, cview: 1.1658, xv: 1.1550, virtual: 1.1549\n",
      "...\n",
      "people: -0.9077, atheism: -0.9183, solar: -0.9317, religion: -0.9328, wpi: -0.9347, by: -0.9364, access: -0.9390, not: -0.9843, cmu: -1.0191, planets: -1.0303, jennise: -1.0442, dgi: -1.0442, nasa: -1.0551, you: -1.0719, who: -1.0797, he: -1.1036, was: -1.1038, koresh: -1.1072, org: -1.1288, shuttle: -1.1296, beast: -1.1348, that: -1.1492, writes: -1.2298, dc: -1.2685, god: -1.3190, orbit: -1.3275, moon: -1.3938, re: -1.4007, edu: -1.5693, space: -3.5541\n",
      "\n",
      "Class: sci.space\n",
      "\n",
      "space: 5.7847, moon: 2.3449, orbit: 2.2015, dc: 2.0418, launch: 1.9859, alaska: 1.9770, nasa: 1.8253, sci: 1.7221, shuttle: 1.6745, henry: 1.6367, pat: 1.5370, ether: 1.5207, nick: 1.4298, planets: 1.4241, lunar: 1.3819, spacecraft: 1.3399, flight: 1.3094, aurora: 1.2777, astronomy: 1.2608, mars: 1.2571, funding: 1.2286, solar: 1.2173, access: 1.2158, digex: 1.2115, jennise: 1.1946, dgi: 1.1946, nicho: 1.1893, rockets: 1.1827, dietz: 1.1578, titan: 1.1250\n",
      "...\n",
      "dos: -0.7745, library: -0.7781, fbi: -0.7836, com: -0.8184, buffalo: -0.8187, religion: -0.8203, video: -0.8397, ___: -0.8400, nl: -0.8486, package: -0.8687, jack: -0.8815, vga: -0.8839, sgi: -0.8892, atheism: -0.9034, gaspra: -0.9147, sandvik: -0.9179, is: -0.9370, 3do: -0.9380, koresh: -1.0358, points: -1.0392, files: -1.0490, christian: -1.0764, keith: -1.0994, color: -1.1410, 3d: -1.2390, file: -1.2457, animation: -1.3324, image: -1.3346, god: -1.5273, graphics: -2.3436\n",
      "\n",
      "Class: talk.religion.misc\n",
      "\n",
      "christian: 3.0195, beast: 1.9402, fbi: 1.7999, hudson: 1.7518, mr: 1.5985, who: 1.5571, buffalo: 1.5410, order: 1.5267, koresh: 1.5002, 2000: 1.4968, mitre: 1.4810, frank: 1.4482, biblical: 1.4366, brian: 1.4355, terrorist: 1.4293, morality: 1.3617, 666: 1.3577, christ: 1.3472, weiss: 1.3453, abortion: 1.3333, amdahl: 1.3283, christians: 1.3182, thyagi: 1.2881, blood: 1.2799, mormons: 1.2723, rosicrucian: 1.2459, freenet: 1.2078, truth: 1.1881, promise: 1.1813, convenient: 1.1793\n",
      "...\n",
      "wwc: -0.9439, at: -0.9515, ibm: -0.9960, satan: -0.9998, ac: -1.0046, lunatic: -1.0215, on: -1.0317, gov: -1.0407, need: -1.0471, atheist: -1.0665, file: -1.1073, au: -1.1169, for: -1.1297, freedom: -1.1334, uk: -1.1365, nasa: -1.1583, free: -1.1596, thanks: -1.2099, thing: -1.2351, liar: -1.2411, caltech: -1.2964, cobb: -1.3835, princeton: -1.4017, graphics: -1.4783, edu: -1.6931, atheism: -1.7375, keith: -1.7784, atheists: -1.8294, it: -1.8496, space: -2.1707\n",
      "\n"
     ]
    }
   ],
   "source": [
    "def display_important_features(feature_names, target_names, weights, n_top=30):\n",
    "    for i, target_name in enumerate(target_names):\n",
    "        print(\"Class: \" + target_name)\n",
    "        print(\"\")\n",
    "        \n",
    "        sorted_features_indices = weights[i].argsort()[::-1]\n",
    "        \n",
    "        most_important = sorted_features_indices[:n_top]\n",
    "        print(\", \".join(\"{0}: {1:.4f}\".format(feature_names[j], weights[i, j])\n",
    "                        for j in most_important))\n",
    "        print(\"...\")\n",
    "        \n",
    "        least_important = sorted_features_indices[-n_top:]\n",
    "        print(\", \".join(\"{0}: {1:.4f}\".format(feature_names[j], weights[i, j])\n",
    "                        for j in least_important))\n",
    "        print(\"\")\n",
    "        \n",
    "display_important_features(feature_names, target_names, feature_weights)"
   ]
  },
  {
   "cell_type": "markdown",
   "metadata": {},
   "source": [
    "### Displaying the per-class Classification Reports"
   ]
  },
  {
   "cell_type": "code",
   "execution_count": 243,
   "metadata": {
    "collapsed": false
   },
   "outputs": [],
   "source": [
    "from sklearn.metrics import classification_report\n",
    "\n",
    "predicted = pipeline.predict(twenty_test_small.data)"
   ]
  },
  {
   "cell_type": "code",
   "execution_count": 244,
   "metadata": {
    "collapsed": false
   },
   "outputs": [
    {
     "name": "stdout",
     "output_type": "stream",
     "text": [
      "                    precision    recall  f1-score   support\n",
      "\n",
      "       alt.atheism       0.87      0.83      0.85       319\n",
      "     comp.graphics       0.93      0.97      0.95       389\n",
      "         sci.space       0.94      0.95      0.95       394\n",
      "talk.religion.misc       0.80      0.79      0.80       251\n",
      "\n",
      "       avg / total       0.90      0.90      0.90      1353\n",
      "\n"
     ]
    }
   ],
   "source": [
    "print(classification_report(twenty_test_small.target, predicted,\n",
    "                            target_names=twenty_test_small.target_names))"
   ]
  },
  {
   "cell_type": "markdown",
   "metadata": {},
   "source": [
    "### Printing the Confusion Matrix"
   ]
  },
  {
   "cell_type": "markdown",
   "metadata": {},
   "source": [
    "The confusion matrix summarize which class where by having a look at off-diagonal entries: here we can see that articles about atheism have been wrongly classified as being about religion 57 times for instance: "
   ]
  },
  {
   "cell_type": "code",
   "execution_count": 245,
   "metadata": {
    "collapsed": false
   },
   "outputs": [
    {
     "data": {
      "text/plain": [
       "array([[265,   4,   7,  43],\n",
       "       [  2, 377,   6,   4],\n",
       "       [  1,  17, 375,   1],\n",
       "       [ 37,   7,   9, 198]])"
      ]
     },
     "execution_count": 245,
     "metadata": {},
     "output_type": "execute_result"
    }
   ],
   "source": [
    "from sklearn.metrics import confusion_matrix\n",
    "\n",
    "cm = confusion_matrix(twenty_test_small.target, predicted)\n",
    "cm"
   ]
  },
  {
   "cell_type": "code",
   "execution_count": 246,
   "metadata": {
    "collapsed": false
   },
   "outputs": [
    {
     "data": {
      "text/plain": [
       "['alt.atheism', 'comp.graphics', 'sci.space', 'talk.religion.misc']"
      ]
     },
     "execution_count": 246,
     "metadata": {},
     "output_type": "execute_result"
    }
   ],
   "source": [
    "twenty_test_small.target_names"
   ]
  },
  {
   "cell_type": "code",
   "execution_count": 247,
   "metadata": {
    "collapsed": false
   },
   "outputs": [
    {
     "data": {
      "image/png": "[encoded data removed]",
      "text/plain": [
       "<matplotlib.figure.Figure at 0x1169b77d0>"
      ]
     },
     "metadata": {},
     "output_type": "display_data"
    }
   ],
   "source": [
    "def plot_confusion(cm, target_names, title='Confusion matrix'):\n",
    "    plt.imshow(cm, interpolation='nearest', cmap=plt.cm.Blues)\n",
    "    plt.title(title)\n",
    "    plt.colorbar()\n",
    "\n",
    "    tick_marks = np.arange(len(target_names))\n",
    "    plt.xticks(tick_marks, target_names, rotation=60)\n",
    "    plt.yticks(tick_marks, target_names)\n",
    "    plt.ylabel('True label')\n",
    "    plt.xlabel('Predicted label')\n",
    "    # Convenience function to adjust plot parameters for a clear layout.\n",
    "    plt.tight_layout()\n",
    "\n",
    "plot_confusion(cm, twenty_test_small.target_names)"
   ]
  },
  {
   "cell_type": "markdown",
   "metadata": {},
   "source": [
    "## Final exercise: adding a non-descriminative \"junk\" class\n",
    "\n",
    "As we have seen previously, the negative features of a specific class tend.\n",
    "\n",
    "To mitigate this issue we can try to generate some random text documents by randomly assembling snippets from all the other classes (or ideally from random text collected on the web) and give it the target name \"junk\" or \"unknown\".\n",
    "\n",
    "Then we can retrain a model with on a new dataset with the 4 previously used classes along with our new 5-th \"junk\" class. We can then examine the impact on the quality of the model and the negative features for each class."
   ]
  },
  {
   "cell_type": "code",
   "execution_count": null,
   "metadata": {
    "collapsed": false
   },
   "outputs": [],
   "source": []
  },
  {
   "cell_type": "code",
   "execution_count": null,
   "metadata": {
    "collapsed": false
   },
   "outputs": [],
   "source": [
    "# %load solutions/07D_junk_class.py\n",
    "# Generate random text document by mixing lines irrespective\n",
    "# of the class\n",
    "import random\n",
    "random.seed(0)\n",
    "\n",
    "all_lines = [line for doc in all_twenty_train.data\n",
    "                  for line in doc.split('\\n')]\n",
    "\n",
    "n_junk_docs = 1000\n",
    "n_lines_per_doc = 1000\n",
    "\n",
    "junk_docs = []\n",
    "for i in range(n_junk_docs):\n",
    "    junk_doc = \"\\n\".join(random.sample(all_lines, n_lines_per_doc))\n",
    "    junk_docs.append(junk_doc)\n",
    "\n",
    "#Concatenate the new junk documentation to the previous dataset\n",
    "new_data_train = twenty_train_small.data + junk_docs\n",
    "\n",
    "junk_targets = [4] * len(junk_docs)\n",
    "new_target_train = np.concatenate([twenty_train_small.target,\n",
    "                                   junk_targets])\n",
    "\n",
    "new_target_names = np.concatenate([twenty_train_small.target_names,\n",
    "                                   ['junk']])\n",
    "\n",
    "\n",
    "# Retrain the pipeline \n",
    "_ = pipeline.fit(new_data_train, new_target_train)\n",
    "\n",
    "vec_name, vec = pipeline.steps[0]\n",
    "clf_name, clf = pipeline.steps[1]\n",
    "\n",
    "feature_names = vec.get_feature_names()\n",
    "feature_weights = clf.coef_\n",
    "        \n",
    "print(display_important_features(feature_names, new_target_names,\n",
    "                                 feature_weights))\n"
   ]
  },
  {
   "cell_type": "code",
   "execution_count": 249,
   "metadata": {
    "collapsed": false
   },
   "outputs": [
    {
     "name": "stdout",
     "output_type": "stream",
     "text": [
      "Class: alt.atheism\n",
      "\n",
      "atheists: 2.8281, atheism: 2.7901, keith: 2.7107, cobb: 2.1174, rushdie: 1.7113, okcforum: 1.7093, islamic: 1.6828, osrhe: 1.6134, caltech: 1.6133, wingate: 1.6086, wwc: 1.5430, psilink: 1.4886, enviroleague: 1.4747, jaeger: 1.4679, atheist: 1.4508, rice: 1.4416, charley: 1.4346, religion: 1.4150, mangoe: 1.3733, freedom: 1.3574, ingles: 1.3274, liar: 1.3256, schneider: 1.3015, tammy: 1.2835, lunatic: 1.2757, alexia: 1.2580, gregg: 1.2496, karner: 1.2371, tek: 1.2223, bible: 1.2031\n",
      "...\n",
      "who: -0.7568, polygon: -0.7599, software: -0.7779, moon: -0.7828, good: -0.7938, deal: -0.7976, please: -0.8039, use: -0.8140, image: -0.8201, paul: -0.8310, christ: -0.8373, ca: -0.8532, thanks: -0.8837, objective: -0.9456, org: -0.9467, brian: -0.9776, com: -0.9829, 2000: -0.9848, josephus: -0.9859, out: -1.0101, muhammad: -1.0199, scic: -1.0313, mail: -1.0984, with: -1.1017, morality: -1.1190, hudson: -1.2699, ax: -1.2838, graphics: -1.2843, christian: -1.4986, space: -1.6020\n",
      "\n",
      "Class: comp.graphics\n",
      "\n",
      "graphics: 4.0567, image: 2.2913, files: 1.8452, 3d: 1.7571, animation: 1.7531, tiff: 1.6478, cview: 1.6428, polygon: 1.6166, computer: 1.5719, 3do: 1.5686, file: 1.5042, 42: 1.4962, color: 1.4951, windows: 1.4491, package: 1.4288, video: 1.4230, points: 1.3797, sphere: 1.3569, hi: 1.3566, looking: 1.3304, vesa: 1.3280, thanks: 1.3236, virtual: 1.3217, format: 1.3203, any: 1.3153, code: 1.2864, screen: 1.2420, vga: 1.2368, fractal: 1.2269, need: 1.2179\n",
      "...\n",
      "funding: -0.8837, jim: -0.9036, you: -0.9148, jennise: -0.9261, sunset: -0.9286, not: -0.9347, sunrise: -0.9425, as: -0.9492, sci: -0.9566, digex: -0.9723, cmu: -0.9882, christian: -0.9973, beast: -1.0039, article: -1.0043, shuttle: -1.0380, nasa: -1.0684, by: -1.0685, planets: -1.0947, are: -1.1082, dc: -1.1384, who: -1.1432, people: -1.1787, was: -1.2234, moon: -1.3922, he: -1.4146, edu: -1.4739, orbit: -1.4803, writes: -1.5958, god: -1.6836, space: -3.4520\n",
      "\n",
      "Class: sci.space\n",
      "\n",
      "space: 5.6098, orbit: 2.4898, moon: 2.3101, henry: 2.1691, nasa: 1.8440, alaska: 1.8393, dc: 1.8274, pat: 1.8032, rockets: 1.6555, shuttle: 1.6465, lunar: 1.6312, planets: 1.5986, aurora: 1.5845, sci: 1.5802, launch: 1.5768, ether: 1.5398, spacecraft: 1.5211, flight: 1.4757, digex: 1.4352, solar: 1.3985, sky: 1.3225, mccall: 1.3162, nick: 1.3138, dietz: 1.2833, funding: 1.2757, mars: 1.2668, prb: 1.2336, access: 1.2201, zoo: 1.2149, nsmca: 1.2118\n",
      "...\n",
      "vga: -0.7924, version: -0.7934, library: -0.7988, cc: -0.8143, files: -0.8189, speedstar: -0.8338, sandvik: -0.8360, koresh: -0.8535, christian: -0.8538, code: -0.8682, ax: -0.8771, windows: -0.8795, people: -0.8906, beast: -0.9052, com: -0.9063, 3do: -0.9131, any: -0.9176, polygon: -0.9215, ___: -0.9253, keith: -0.9411, gaspra: -0.9422, religion: -0.9543, format: -0.9652, color: -0.9861, 3d: -1.0710, file: -1.1402, animation: -1.1408, image: -1.2934, god: -1.6484, graphics: -2.2069\n",
      "\n",
      "Class: talk.religion.misc\n",
      "\n",
      "christian: 2.7867, beast: 1.8792, hudson: 1.8566, koresh: 1.7154, who: 1.6753, frank: 1.5644, 2000: 1.5453, morality: 1.5172, fbi: 1.4952, 666: 1.4516, thyagi: 1.4259, buffalo: 1.4250, terrorist: 1.4235, amdahl: 1.4235, mormons: 1.3845, weiss: 1.3780, biblical: 1.3631, brian: 1.3414, abortion: 1.3212, mr: 1.2871, hare: 1.2500, order: 1.2375, scientology: 1.2155, christians: 1.2079, promise: 1.1978, meritt: 1.1756, mitre: 1.1733, josephus: 1.1663, rosicrucian: 1.1651, christ: 1.1518\n",
      "...\n",
      "gov: -0.9074, osrhe: -0.9216, ac: -0.9230, was: -0.9297, orbit: -0.9357, uk: -0.9360, ibm: -0.9453, mangoe: -0.9655, liar: -0.9979, wwc: -1.0097, freedom: -1.0122, file: -1.0593, some: -1.0601, thanks: -1.0731, princeton: -1.1133, free: -1.1192, atheist: -1.1260, nasa: -1.1540, ax: -1.1621, caltech: -1.1641, but: -1.1715, on: -1.1792, thing: -1.1818, cobb: -1.3356, edu: -1.4805, keith: -1.4998, graphics: -1.5250, atheism: -1.5865, atheists: -1.8446, space: -2.0647\n",
      "\n",
      "Class: junk\n",
      "\n",
      "ax: 8.6582, a86: 0.6586, max: 0.6045, g9v: 0.5509, b8f: 0.4568, drive: 0.3884, 34u: 0.3406, scsi: 0.3293, israel: 0.3263, key: 0.3217, government: 0.3196, sale: 0.3019, my: 0.2981, encryption: 0.2915, car: 0.2829, had: 0.2709, have: 0.2613, 34: 0.2592, no: 0.2590, 0d: 0.2562, 00: 0.2503, she: 0.2490, windows: 0.2484, game: 0.2482, cx: 0.2462, turkish: 0.2422, chz: 0.2410, team: 0.2400, israeli: 0.2380, colorado: 0.2354\n",
      "...\n",
      "de: -0.3690, moon: -0.3722, viewer: -0.3723, spacecraft: -0.3739, sax: -0.3768, spacewalk: -0.3778, soth: -0.3881, sas58295: -0.3881, morality: -0.3887, keesler: -0.3887, kewageshig: -0.3934, balloon: -0.3967, dxf: -0.4013, fractal: -0.4021, inu530n: -0.4049, owens: -0.4091, motto: -0.4169, was: -0.4320, vesa: -0.4340, mpeg: -0.4377, gov: -0.4562, ad354: -0.4682, mission: -0.4838, egalon: -0.5085, au: -0.5196, nasa: -0.5689, xx: -0.6659, edu: -0.7071, graphics: -0.7431, space: -0.9058\n",
      "\n",
      "None\n"
     ]
    }
   ],
   "source": [
    "# %load solutions/07D_junk_class.py\n",
    "# Generate random text document by mixing lines irrespective\n",
    "# of the class\n",
    "import random\n",
    "random.seed(0)\n",
    "\n",
    "all_lines = [line for doc in all_twenty_train.data\n",
    "                  for line in doc.split('\\n')]\n",
    "\n",
    "n_junk_docs = 1000\n",
    "n_lines_per_doc = 1000\n",
    "\n",
    "junk_docs = []\n",
    "for i in range(n_junk_docs):\n",
    "    junk_doc = \"\\n\".join(random.sample(all_lines, n_lines_per_doc))\n",
    "    junk_docs.append(junk_doc)\n",
    "\n",
    "#Concatenate the new junk documentation to the previous dataset\n",
    "new_data_train = twenty_train_small.data + junk_docs\n",
    "\n",
    "junk_targets = [4] * len(junk_docs)\n",
    "new_target_train = np.concatenate([twenty_train_small.target,\n",
    "                                   junk_targets])\n",
    "\n",
    "new_target_names = np.concatenate([twenty_train_small.target_names,\n",
    "                                   ['junk']])\n",
    "\n",
    "\n",
    "# Retrain the pipeline \n",
    "_ = pipeline.fit(new_data_train, new_target_train)\n",
    "\n",
    "vec_name, vec = pipeline.steps[0]\n",
    "clf_name, clf = pipeline.steps[1]\n",
    "\n",
    "feature_names = vec.get_feature_names()\n",
    "feature_weights = clf.coef_\n",
    "        \n",
    "print(display_important_features(feature_names, new_target_names,\n",
    "                                 feature_weights))\n"
   ]
  },
  {
   "cell_type": "code",
   "execution_count": null,
   "metadata": {
    "collapsed": true
   },
   "outputs": [],
   "source": []
  }
 ],
 "metadata": {
  "kernelspec": {
   "display_name": "Python 2",
   "language": "python",
   "name": "python2"
  },
  "language_info": {
   "codemirror_mode": {
    "name": "ipython",
    "version": 2
   },
   "file_extension": ".py",
   "mimetype": "text/x-python",
   "name": "python",
   "nbconvert_exporter": "python",
   "pygments_lexer": "ipython2",
   "version": "2.7.10"
  }
 },
 "nbformat": 4,
 "nbformat_minor": 0
}
